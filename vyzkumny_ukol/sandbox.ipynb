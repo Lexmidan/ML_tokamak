{
 "cells": [
  {
   "cell_type": "code",
   "execution_count": 2,
   "metadata": {},
   "outputs": [],
   "source": [
    "import numpy as np\n",
    "import os\n",
    "import matplotlib.pyplot as plt\n",
    "from torch.utils.data import DataLoader, Dataset, WeightedRandomSampler\n",
    "import torch\n",
    "import torch.nn.functional as F\n",
    "import pandas as pd\n",
    "import torchvision\n",
    "from tqdm import tqdm\n",
    "from torch.utils.data import DataLoader, Dataset, WeightedRandomSampler\n",
    "from torchmetrics.classification import MulticlassConfusionMatrix, F1Score, MulticlassPrecision, MulticlassRecall, MulticlassPrecisionRecallCurve, MulticlassROC\n",
    "from torch.optim import lr_scheduler\n",
    "import torch.nn as nn\n",
    "import torch\n",
    "import pytorch_lightning as pl\n",
    "from torch.utils.tensorboard import SummaryWriter\n",
    "from matplotlib.backends.backend_agg import FigureCanvasAgg\n",
    "\n",
    "import confinement_mode_classifier as cmc\n",
    "import alt_models as am\n"
   ]
  },
  {
   "cell_type": "code",
   "execution_count": null,
   "metadata": {},
   "outputs": [],
   "source": []
  },
  {
   "cell_type": "code",
   "execution_count": 72,
   "metadata": {},
   "outputs": [
    {
     "name": "stderr",
     "output_type": "stream",
     "text": [
      "Seed set to 42\n"
     ]
    }
   ],
   "source": [
    "signal_window = 320\n",
    "num_workers = 6\n",
    "signal_name = 'mc'\n",
    "batch_size = 512\n",
    "pl.seed_everything(42)\n",
    "path=os.getcwd()\n",
    "device = torch.device('cuda' if torch.cuda.is_available() else 'cpu')\n",
    "shot_usage = pd.read_csv(f'{path}/data/shot_usage.csv')\n",
    "shot_for_ris = shot_usage[shot_usage['used_for_alt']]\n",
    "shot_numbers = shot_for_ris['shot']\n",
    "shots_for_testing = shot_for_ris[shot_for_ris['used_as'] == 'test']['shot']\n",
    "shots_for_validation = shot_for_ris[shot_for_ris['used_as'] == 'val']['shot']\n",
    "shots_for_training = shot_for_ris[shot_for_ris['used_as'] == 'train']['shot']\n"
   ]
  },
  {
   "cell_type": "code",
   "execution_count": 4,
   "metadata": {},
   "outputs": [
    {
     "data": {
      "text/plain": [
       "<module 'alt_models' from '/compass/Shared/Users/bogdanov/vyzkumny_ukol/alt_models.py'>"
      ]
     },
     "execution_count": 4,
     "metadata": {},
     "output_type": "execute_result"
    }
   ],
   "source": [
    "from importlib import reload\n",
    "reload(am)"
   ]
  },
  {
   "cell_type": "code",
   "execution_count": 76,
   "metadata": {},
   "outputs": [],
   "source": [
    "shot_df300, test_df300, val_df300, train_df300 = am.split_df(path, shot_numbers,shots_for_training, shots_for_testing, shots_for_validation, use_ELMS=True, signal_name=signal_name, sampling_freq=300)\n",
    "shot_df150, test_df150, val_df150, train_df150 = am.split_df(path, shot_numbers,shots_for_training, shots_for_testing, shots_for_validation, use_ELMS=True, signal_name=signal_name, sampling_freq=150)\n",
    "shot_df30, test_df30, val_df30, train_df30 = am.split_df(path, shot_numbers,shots_for_training, shots_for_testing, shots_for_validation, use_ELMS=True, signal_name=signal_name, sampling_freq=30)\n",
    "\n",
    "train_dataloader300 = am.get_dloader(train_df300, batch_size=batch_size, \n",
    "                            balance_data=True, shuffle=False, \n",
    "                            signal_window=signal_window,\n",
    "                            signal_name=signal_name,\n",
    "                            num_workers=num_workers)\n",
    "\n",
    "train_dataloader30 = am.get_dloader(train_df30, batch_size=batch_size, \n",
    "                            balance_data=True, shuffle=False, \n",
    "                            signal_window=signal_window,\n",
    "                            signal_name=signal_name,\n",
    "                            num_workers=num_workers)\n",
    "\n",
    "train_dataloader150 = am.get_dloader(train_df150, batch_size=batch_size, \n",
    "                            balance_data=True, shuffle=False, \n",
    "                            signal_window=signal_window,\n",
    "                            signal_name=signal_name,\n",
    "                            num_workers=num_workers)"
   ]
  },
  {
   "cell_type": "code",
   "execution_count": 86,
   "metadata": {},
   "outputs": [],
   "source": [
    "hyperparameters = {\n",
    "'batch_size': 42,\n",
    "'num_epochs': 12,\n",
    "'optimizer': 'adanmw',\n",
    "'criterion': 'cross_entropy',\n",
    "'learning_rate_max': 0.01,\n",
    "'scheduler': 'OneCycleLR',\n",
    "'shots_for_testing': torch.tensor(shots_for_testing.values.tolist()),\n",
    "'shots_for_validation': torch.tensor(shots_for_validation.values.tolist()),\n",
    "'shots_for_training': torch.tensor(shots_for_training.values.tolist()),\n",
    "'ris_option': 'RIS1',\n",
    "'num_classes': 2,\n",
    "'second_image': 'None',\n",
    "'augmentation': \"applied\",\n",
    "'random_seed': 42\n",
    "}\n",
    "\n",
    "metrics = {'Accuracy on test_dataset': 2, \n",
    " 'F1 metric on test_dataset':1, \n",
    " 'Precision on test_dataset':4, \n",
    " 'Recall on test_dataset':9}\n",
    "\n",
    "all_hparams = {**hyperparameters, **metrics}"
   ]
  },
  {
   "cell_type": "code",
   "execution_count": 88,
   "metadata": {},
   "outputs": [],
   "source": [
    "import json\n",
    "\n",
    "# Assuming hyperparameters and metrics as before, but convert tensors to lists or another serializable format\n",
    "for key in ['shots_for_testing', 'shots_for_validation', 'shots_for_training']:\n",
    "    hyperparameters[key] = hyperparameters[key].tolist()  # Convert tensors to lists\n",
    "\n",
    "all_hparams = {**hyperparameters, **metrics}\n",
    "\n",
    "# Convert to JSON\n",
    "json_str = json.dumps(all_hparams, indent=4)\n",
    "with open('/compass/Shared/Users/bogdanov/vyzkumny_ukol/RIS1 preds for doubtful shots/hyperparameters_and_metrics.json', 'w') as f:\n",
    "    f.write(json_str)"
   ]
  },
  {
   "cell_type": "code",
   "execution_count": 80,
   "metadata": {},
   "outputs": [],
   "source": [
    "pd.DataFrame({**metrics}, index=[0]).to_csv(f'/compass/Shared/Users/bogdanov/vyzkumny_ukol/RIS1 preds for doubtful shots/hparams.csv', sep='\\t')"
   ]
  },
  {
   "cell_type": "code",
   "execution_count": 3,
   "metadata": {},
   "outputs": [],
   "source": [
    "\n",
    "shot_df, test_df, val_df, train_df = am.split_df(path, shot_numbers, shots_for_testing, shots_for_validation, use_ELMS=True, signal_name=signal_name)\n",
    "\n",
    "\n",
    "# Create dataloaders\n",
    "train_dataloader = am.get_dloader(train_df, batch_size=batch_size, \n",
    "                            balance_data=True, shuffle=False, \n",
    "                            signal_window=signal_window,\n",
    "                            signal_name=signal_name,\n",
    "                            num_workers=num_workers)\n",
    "\n",
    "val_dataloader = am.get_dloader(val_df, batch_size=batch_size, \n",
    "                            balance_data=True, shuffle=False, \n",
    "                            signal_window=signal_window,\n",
    "                            signal_name=signal_name,\n",
    "                            num_workers=num_workers)\n",
    "\n",
    "test_dataloader = am.get_dloader(test_df, batch_size=batch_size, \n",
    "                            balance_data=False, shuffle=False, \n",
    "                            signal_window=signal_window,\n",
    "                            signal_name=signal_name,\n",
    "                            num_workers=num_workers)"
   ]
  },
  {
   "cell_type": "code",
   "execution_count": 8,
   "metadata": {},
   "outputs": [
    {
     "data": {
      "text/plain": [
       "torch.Size([512, 320, 4])"
      ]
     },
     "execution_count": 8,
     "metadata": {},
     "output_type": "execute_result"
    }
   ],
   "source": [
    "model = am.select_model_architecture('InceptionTime', num_classes=3, window=320)\n",
    "model.load_state_dict(torch.load(f'/compass/Shared/Users/bogdanov/vyzkumny_ukol/runs/24-02-22, 18-31-57 InceptionTime_on_Mink_coil_320dpoints_16_epochs/model.pt'))\n",
    "model.eval()\n",
    "\n",
    "model.to(device)"
   ]
  },
  {
   "cell_type": "code",
   "execution_count": 15,
   "metadata": {},
   "outputs": [],
   "source": [
    "optimizer = torch.optim.AdamW(model.parameters(), lr=200, weight_decay=0.01)\n",
    "exp_lr_scheduler = lr_scheduler.OneCycleLR(optimizer, max_lr=0.01, total_steps=24) #!!!\n",
    "learning_rates = []\n",
    "for i in range(24):\n",
    "    a = model(next(iter(train_dataloader))[signal_name].to(device).float())\n",
    "    optimizer.step()\n",
    "    exp_lr_scheduler.step()\n",
    "    learning_rates.append(exp_lr_scheduler.get_last_lr())"
   ]
  },
  {
   "cell_type": "code",
   "execution_count": null,
   "metadata": {},
   "outputs": [],
   "source": []
  },
  {
   "cell_type": "code",
   "execution_count": 1,
   "metadata": {},
   "outputs": [],
   "source": [
    "import os\n",
    "from pathlib import Path\n",
    "import sys\n",
    "# sys.path.append('/compass/Shared/Common/IT/projects/user-libraries/python/cdb_extras/stable/cdb_extras')\n",
    "# import xarray_support as cdbxr   # načítání dat z databáze COMPASSu\n",
    "from cdb_extras import xarray_support as cdbxr   # načítání dat z databáze COMPASSu\n",
    "from pyCDB import client\n",
    "import pandas as pd\n",
    "import xrscipy.signal as dsp\n",
    "import numpy as np\n",
    "from tqdm import tqdm"
   ]
  },
  {
   "cell_type": "code",
   "execution_count": 2,
   "metadata": {},
   "outputs": [],
   "source": [
    "cdb = client.CDBClient()\n",
    "shot_usage = pd.read_csv(f'/compass/Shared/Users/bogdanov/vyzkumny_ukol/data/shot_usage.csv')\n",
    "shot_for_alt = shot_usage[shot_usage['used_for_alt']]\n",
    "shot_numbers = shot_for_alt['shot']"
   ]
  },
  {
   "cell_type": "code",
   "execution_count": 3,
   "metadata": {},
   "outputs": [
    {
     "name": "stderr",
     "output_type": "stream",
     "text": [
      " 13%|█▎        | 7/53 [00:00<00:01, 33.56it/s]"
     ]
    },
    {
     "name": "stdout",
     "output_type": "stream",
     "text": [
      "No ELMs for shot 13182\n",
      "No ELMs for shot 16532\n",
      "No ELMs for shot 16989\n"
     ]
    },
    {
     "name": "stderr",
     "output_type": "stream",
     "text": [
      " 42%|████▏     | 22/53 [00:00<00:00, 42.63it/s]"
     ]
    },
    {
     "name": "stdout",
     "output_type": "stream",
     "text": [
      "No ELMs for shot 18127\n",
      "No ELMs for shot 18128\n",
      "No ELMs for shot 18130\n",
      "No ELMs for shot 18133\n"
     ]
    },
    {
     "name": "stderr",
     "output_type": "stream",
     "text": [
      " 70%|██████▉   | 37/53 [00:00<00:00, 40.75it/s]"
     ]
    },
    {
     "name": "stdout",
     "output_type": "stream",
     "text": [
      "No ELMs for shot 18488\n",
      "No ELMs for shot 18489\n",
      "No ELMs for shot 18499\n",
      "No ELMs for shot 19083\n",
      "No ELMs for shot 19094\n"
     ]
    },
    {
     "name": "stderr",
     "output_type": "stream",
     "text": [
      " 89%|████████▊ | 47/53 [00:01<00:00, 41.56it/s]"
     ]
    },
    {
     "name": "stdout",
     "output_type": "stream",
     "text": [
      "No ELMs for shot 19244\n",
      "No ELMs for shot 19379\n",
      "No ELMs for shot 19915\n",
      "No ELMs for shot 20009\n",
      "No ELMs for shot 20143\n"
     ]
    },
    {
     "name": "stderr",
     "output_type": "stream",
     "text": [
      " 98%|█████████▊| 52/53 [00:01<00:00, 39.57it/s]\n"
     ]
    },
    {
     "name": "stdout",
     "output_type": "stream",
     "text": [
      "No ELMs for shot 20144\n",
      "No ELMs for shot 20146\n"
     ]
    },
    {
     "ename": "TypeError",
     "evalue": "len() of unsized object",
     "output_type": "error",
     "traceback": [
      "\u001b[0;31m---------------------------------------------------------------------------\u001b[0m",
      "\u001b[0;31mTypeError\u001b[0m                                 Traceback (most recent call last)",
      "Cell \u001b[0;32mIn[3], line 5\u001b[0m\n\u001b[1;32m      3\u001b[0m \u001b[38;5;28;01mfor\u001b[39;00m shot \u001b[38;5;129;01min\u001b[39;00m tqdm(shot_numbers):\n\u001b[1;32m      4\u001b[0m     signal \u001b[38;5;241m=\u001b[39m cdb\u001b[38;5;241m.\u001b[39mget_signal(\u001b[38;5;124mf\u001b[39m\u001b[38;5;124m\"\u001b[39m\u001b[38;5;124mf_ELM/SYNTHETIC_DIAGNOSTICS:\u001b[39m\u001b[38;5;132;01m{\u001b[39;00mshot\u001b[38;5;132;01m}\u001b[39;00m\u001b[38;5;124m:seidl_2023\u001b[39m\u001b[38;5;124m\"\u001b[39m)\u001b[38;5;241m.\u001b[39mdata\n\u001b[0;32m----> 5\u001b[0m     \u001b[38;5;28;01mif\u001b[39;00m signal \u001b[38;5;129;01mis\u001b[39;00m \u001b[38;5;28;01mNone\u001b[39;00m \u001b[38;5;129;01mor\u001b[39;00m \u001b[38;5;28;43mlen\u001b[39;49m\u001b[43m(\u001b[49m\u001b[43msignal\u001b[49m\u001b[43m)\u001b[49m \u001b[38;5;241m==\u001b[39m \u001b[38;5;241m0\u001b[39m:\n\u001b[1;32m      6\u001b[0m         \u001b[38;5;28mprint\u001b[39m(\u001b[38;5;124mf\u001b[39m\u001b[38;5;124m'\u001b[39m\u001b[38;5;124mNo ELMs for shot \u001b[39m\u001b[38;5;132;01m{\u001b[39;00mshot\u001b[38;5;132;01m}\u001b[39;00m\u001b[38;5;124m'\u001b[39m)\n\u001b[1;32m      7\u001b[0m     \u001b[38;5;28;01melse\u001b[39;00m:\n",
      "\u001b[0;31mTypeError\u001b[0m: len() of unsized object"
     ]
    }
   ],
   "source": [
    "mean_frequency_per_shot = pd.DataFrame(columns=['shot', 'mean_frequency [kHz]'])\n",
    "\n",
    "for shot in tqdm(shot_numbers):\n",
    "    signal = cdb.get_signal(f\"f_ELM/SYNTHETIC_DIAGNOSTICS:{shot}:seidl_2023\").data\n",
    "    if signal is None or len(signal) == 0:\n",
    "        print(f'No ELMs for shot {shot}')\n",
    "    else:\n",
    "        mean_frequency_per_shot = pd.concat([mean_frequency_per_shot, \n",
    "                                             pd.DataFrame({'shot': [shot], 'mean_frequency [kHz]': [np.mean(signal)]})])"
   ]
  },
  {
   "cell_type": "code",
   "execution_count": 8,
   "metadata": {},
   "outputs": [
    {
     "data": {
      "text/plain": [
       "Text(0, 0.5, 'Num of shots')"
      ]
     },
     "execution_count": 8,
     "metadata": {},
     "output_type": "execute_result"
    },
    {
     "data": {
      "image/png": "[encoded data removed]",
      "text/plain": [
       "<Figure size 640x480 with 1 Axes>"
      ]
     },
     "metadata": {},
     "output_type": "display_data"
    }
   ],
   "source": [
    "import matplotlib.pyplot as plt\n",
    "mean_frequency_per_shot['mean_frequency [kHz]'].hist(bins=10, )\n",
    "plt.xlabel('Mean Frequency (kHz)') # Setting the label for the x-axis\n",
    "plt.ylabel('Num of shots') # Setting the label for the y-axis"
   ]
  },
  {
   "cell_type": "code",
   "execution_count": 6,
   "metadata": {},
   "outputs": [
    {
     "data": {
      "text/plain": [
       "0.63815732360972"
      ]
     },
     "execution_count": 6,
     "metadata": {},
     "output_type": "execute_result"
    }
   ],
   "source": [
    "mean_frequency_per_shot['mean_frequency [kHz]'].std()"
   ]
  },
  {
   "cell_type": "code",
   "execution_count": 11,
   "metadata": {},
   "outputs": [],
   "source": [
    "zza\n",
    "signal = cdb.get_signal(f\"f_ELM/SYNTHETIC_DIAGNOSTICS:{shot}:{variant}\")"
   ]
  }
 ],
 "metadata": {
  "kernelspec": {
   "display_name": "bogdanov_VU_kernel 3.8.10",
   "language": "python",
   "name": "bogdanov_vu_3.8.10"
  },
  "language_info": {
   "codemirror_mode": {
    "name": "ipython",
    "version": 3
   },
   "file_extension": ".py",
   "mimetype": "text/x-python",
   "name": "python",
   "nbconvert_exporter": "python",
   "pygments_lexer": "ipython3",
   "version": "3.8.10"
  }
 },
 "nbformat": 4,
 "nbformat_minor": 2
}
