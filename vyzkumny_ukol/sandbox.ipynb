{
 "cells": [
  {
   "cell_type": "code",
   "execution_count": 1,
   "metadata": {},
   "outputs": [],
   "source": [
    "import numpy as np\n",
    "import os\n",
    "import matplotlib.pyplot as plt\n",
    "from torch.utils.data import DataLoader, Dataset, WeightedRandomSampler\n",
    "import torch\n",
    "import torch.nn.functional as F\n",
    "import pandas as pd\n",
    "import torchvision\n",
    "from tqdm import tqdm\n",
    "from torch.utils.data import DataLoader, Dataset, WeightedRandomSampler\n",
    "from torchmetrics.classification import MulticlassConfusionMatrix, F1Score, MulticlassPrecision, MulticlassRecall, MulticlassPrecisionRecallCurve, MulticlassROC\n",
    "from torch.optim import lr_scheduler\n",
    "import torch.nn as nn\n",
    "import torch\n",
    "import pytorch_lightning as pl\n",
    "from torch.utils.tensorboard import SummaryWriter\n",
    "from matplotlib.backends.backend_agg import FigureCanvasAgg\n",
    "\n",
    "import confinement_mode_classifier as cmc\n",
    "import alt_models as am\n"
   ]
  },
  {
   "cell_type": "code",
   "execution_count": 2,
   "metadata": {},
   "outputs": [
    {
     "name": "stderr",
     "output_type": "stream",
     "text": [
      "Seed set to 42\n"
     ]
    }
   ],
   "source": [
    "signal_window = 320\n",
    "num_workers = 32\n",
    "signal_name = 'mc'\n",
    "batch_size = 512\n",
    "pl.seed_everything(42)\n",
    "path=os.getcwd()\n",
    "device = torch.device('cuda' if torch.cuda.is_available() else 'cpu')\n",
    "shot_usage = pd.read_csv(f'{path}/data/shot_usage.csv')\n",
    "shot_for_ris = shot_usage[shot_usage['used_for_alt']]\n",
    "shot_numbers = shot_for_ris['shot']\n",
    "shots_for_testing = shot_for_ris[shot_for_ris['used_as'] == 'test']['shot']\n",
    "shots_for_validation = shot_for_ris[shot_for_ris['used_as'] == 'val']['shot']\n"
   ]
  },
  {
   "cell_type": "code",
   "execution_count": 3,
   "metadata": {},
   "outputs": [],
   "source": [
    "\n",
    "shot_df, test_df, val_df, train_df = am.split_df(path, shot_numbers, shots_for_testing, shots_for_validation, use_ELMS=True, signal_name=signal_name)\n",
    "\n",
    "\n",
    "# Create dataloaders\n",
    "train_dataloader = am.get_dloader(train_df, batch_size=batch_size, \n",
    "                            balance_data=True, shuffle=False, \n",
    "                            signal_window=signal_window,\n",
    "                            signal_name=signal_name,\n",
    "                            num_workers=num_workers)\n",
    "\n",
    "val_dataloader = am.get_dloader(val_df, batch_size=batch_size, \n",
    "                            balance_data=True, shuffle=False, \n",
    "                            signal_window=signal_window,\n",
    "                            signal_name=signal_name,\n",
    "                            num_workers=num_workers)\n",
    "\n",
    "test_dataloader = am.get_dloader(test_df, batch_size=batch_size, \n",
    "                            balance_data=False, shuffle=False, \n",
    "                            signal_window=signal_window,\n",
    "                            signal_name=signal_name,\n",
    "                            num_workers=num_workers)"
   ]
  },
  {
   "cell_type": "code",
   "execution_count": 4,
   "metadata": {},
   "outputs": [
    {
     "data": {
      "text/plain": [
       "Sequential(\n",
       "  (0): Reshape()\n",
       "  (1): InceptionBlock(\n",
       "    (activation): ReLU()\n",
       "    (inception_1): Inception(\n",
       "      (conv_from_bottleneck_1): Conv1d(1, 32, kernel_size=(5,), stride=(1,), padding=(2,), bias=False)\n",
       "      (conv_from_bottleneck_2): Conv1d(1, 32, kernel_size=(11,), stride=(1,), padding=(5,), bias=False)\n",
       "      (conv_from_bottleneck_3): Conv1d(1, 32, kernel_size=(23,), stride=(1,), padding=(11,), bias=False)\n",
       "      (max_pool): MaxPool1d(kernel_size=3, stride=1, padding=1, dilation=1, ceil_mode=False)\n",
       "      (conv_from_maxpool): Conv1d(1, 32, kernel_size=(1,), stride=(1,), bias=False)\n",
       "      (batch_norm): BatchNorm1d(128, eps=1e-05, momentum=0.1, affine=True, track_running_stats=True)\n",
       "      (activation): ReLU()\n",
       "    )\n",
       "    (inception_2): Inception(\n",
       "      (bottleneck): Conv1d(128, 32, kernel_size=(1,), stride=(1,), bias=False)\n",
       "      (conv_from_bottleneck_1): Conv1d(32, 32, kernel_size=(5,), stride=(1,), padding=(2,), bias=False)\n",
       "      (conv_from_bottleneck_2): Conv1d(32, 32, kernel_size=(11,), stride=(1,), padding=(5,), bias=False)\n",
       "      (conv_from_bottleneck_3): Conv1d(32, 32, kernel_size=(23,), stride=(1,), padding=(11,), bias=False)\n",
       "      (max_pool): MaxPool1d(kernel_size=3, stride=1, padding=1, dilation=1, ceil_mode=False)\n",
       "      (conv_from_maxpool): Conv1d(128, 32, kernel_size=(1,), stride=(1,), bias=False)\n",
       "      (batch_norm): BatchNorm1d(128, eps=1e-05, momentum=0.1, affine=True, track_running_stats=True)\n",
       "      (activation): ReLU()\n",
       "    )\n",
       "    (inception_3): Inception(\n",
       "      (bottleneck): Conv1d(128, 32, kernel_size=(1,), stride=(1,), bias=False)\n",
       "      (conv_from_bottleneck_1): Conv1d(32, 32, kernel_size=(5,), stride=(1,), padding=(2,), bias=False)\n",
       "      (conv_from_bottleneck_2): Conv1d(32, 32, kernel_size=(11,), stride=(1,), padding=(5,), bias=False)\n",
       "      (conv_from_bottleneck_3): Conv1d(32, 32, kernel_size=(23,), stride=(1,), padding=(11,), bias=False)\n",
       "      (max_pool): MaxPool1d(kernel_size=3, stride=1, padding=1, dilation=1, ceil_mode=False)\n",
       "      (conv_from_maxpool): Conv1d(128, 32, kernel_size=(1,), stride=(1,), bias=False)\n",
       "      (batch_norm): BatchNorm1d(128, eps=1e-05, momentum=0.1, affine=True, track_running_stats=True)\n",
       "      (activation): ReLU()\n",
       "    )\n",
       "    (residual): Sequential(\n",
       "      (0): Conv1d(1, 128, kernel_size=(1,), stride=(1,))\n",
       "      (1): BatchNorm1d(128, eps=1e-05, momentum=0.1, affine=True, track_running_stats=True)\n",
       "    )\n",
       "  )\n",
       "  (2): InceptionBlock(\n",
       "    (activation): ReLU()\n",
       "    (inception_1): Inception(\n",
       "      (bottleneck): Conv1d(128, 32, kernel_size=(1,), stride=(1,), bias=False)\n",
       "      (conv_from_bottleneck_1): Conv1d(32, 32, kernel_size=(5,), stride=(1,), padding=(2,), bias=False)\n",
       "      (conv_from_bottleneck_2): Conv1d(32, 32, kernel_size=(11,), stride=(1,), padding=(5,), bias=False)\n",
       "      (conv_from_bottleneck_3): Conv1d(32, 32, kernel_size=(23,), stride=(1,), padding=(11,), bias=False)\n",
       "      (max_pool): MaxPool1d(kernel_size=3, stride=1, padding=1, dilation=1, ceil_mode=False)\n",
       "      (conv_from_maxpool): Conv1d(128, 32, kernel_size=(1,), stride=(1,), bias=False)\n",
       "      (batch_norm): BatchNorm1d(128, eps=1e-05, momentum=0.1, affine=True, track_running_stats=True)\n",
       "      (activation): ReLU()\n",
       "    )\n",
       "    (inception_2): Inception(\n",
       "      (bottleneck): Conv1d(128, 32, kernel_size=(1,), stride=(1,), bias=False)\n",
       "      (conv_from_bottleneck_1): Conv1d(32, 32, kernel_size=(5,), stride=(1,), padding=(2,), bias=False)\n",
       "      (conv_from_bottleneck_2): Conv1d(32, 32, kernel_size=(11,), stride=(1,), padding=(5,), bias=False)\n",
       "      (conv_from_bottleneck_3): Conv1d(32, 32, kernel_size=(23,), stride=(1,), padding=(11,), bias=False)\n",
       "      (max_pool): MaxPool1d(kernel_size=3, stride=1, padding=1, dilation=1, ceil_mode=False)\n",
       "      (conv_from_maxpool): Conv1d(128, 32, kernel_size=(1,), stride=(1,), bias=False)\n",
       "      (batch_norm): BatchNorm1d(128, eps=1e-05, momentum=0.1, affine=True, track_running_stats=True)\n",
       "      (activation): ReLU()\n",
       "    )\n",
       "    (inception_3): Inception(\n",
       "      (bottleneck): Conv1d(128, 32, kernel_size=(1,), stride=(1,), bias=False)\n",
       "      (conv_from_bottleneck_1): Conv1d(32, 32, kernel_size=(5,), stride=(1,), padding=(2,), bias=False)\n",
       "      (conv_from_bottleneck_2): Conv1d(32, 32, kernel_size=(11,), stride=(1,), padding=(5,), bias=False)\n",
       "      (conv_from_bottleneck_3): Conv1d(32, 32, kernel_size=(23,), stride=(1,), padding=(11,), bias=False)\n",
       "      (max_pool): MaxPool1d(kernel_size=3, stride=1, padding=1, dilation=1, ceil_mode=False)\n",
       "      (conv_from_maxpool): Conv1d(128, 32, kernel_size=(1,), stride=(1,), bias=False)\n",
       "      (batch_norm): BatchNorm1d(128, eps=1e-05, momentum=0.1, affine=True, track_running_stats=True)\n",
       "      (activation): ReLU()\n",
       "    )\n",
       "    (residual): Sequential(\n",
       "      (0): Conv1d(128, 128, kernel_size=(1,), stride=(1,))\n",
       "      (1): BatchNorm1d(128, eps=1e-05, momentum=0.1, affine=True, track_running_stats=True)\n",
       "    )\n",
       "  )\n",
       "  (3): AdaptiveAvgPool1d(output_size=1)\n",
       "  (4): Flatten()\n",
       "  (5): Linear(in_features=128, out_features=3, bias=True)\n",
       ")"
      ]
     },
     "execution_count": 4,
     "metadata": {},
     "output_type": "execute_result"
    }
   ],
   "source": [
    "model = am.select_model_architecture('InceptionTime', num_classes=3, window=320)\n",
    "model.load_state_dict(torch.load(f'/compass/Shared/Users/bogdanov/vyzkumny_ukol/runs/24-02-22, 18-31-57 InceptionTime_on_Mink_coil_320dpoints_16_epochs/model.pt'))\n",
    "model.eval()\n",
    "\n",
    "model.to(device)"
   ]
  },
  {
   "cell_type": "code",
   "execution_count": 5,
   "metadata": {},
   "outputs": [],
   "source": [
    "\n",
    "\n",
    "dummy_batch = torch.rand(32, 16).to(device)\n",
    "dummy_target = torch.randint(0, 2, (32,))"
   ]
  },
  {
   "cell_type": "code",
   "execution_count": 6,
   "metadata": {},
   "outputs": [],
   "source": [
    "lr = []\n",
    "dummy_model = torch.nn.Sequential(torch.nn.Linear(16, 32),torch.nn.ReLU(32), torch.nn.Linear(32, 16),torch.nn.ReLU(16), torch.nn.Linear(16, 5), torch.nn.ReLU(5))\n",
    "dummy_model.to(device)\n",
    "optimizer = torch.optim.SGD(model.parameters(), lr=1e-7, momentum=0.9)\n",
    "scheduler = torch.optim.lr_scheduler.OneCycleLR(optimizer, max_lr=0.01, total_steps=32)\n",
    "for epoch in range(32):\n",
    "    for i in range(100): #emulating 100 batches\n",
    "        y_hat = dummy_model(torch.rand(32, 16).to(device))\n",
    "        loss = F.cross_entropy(y_hat, torch.randint(0, 5, (32,)).to(device))\n",
    "        optimizer.step()\n",
    "        \n",
    "    scheduler.step()\n",
    "    lr.append(scheduler.get_last_lr())"
   ]
  },
  {
   "cell_type": "code",
   "execution_count": 8,
   "metadata": {},
   "outputs": [
    {
     "data": {
      "text/plain": [
       "tensor(1.6140, device='cuda:0', grad_fn=<NllLossBackward0>)"
      ]
     },
     "execution_count": 8,
     "metadata": {},
     "output_type": "execute_result"
    }
   ],
   "source": [
    "loss"
   ]
  },
  {
   "cell_type": "code",
   "execution_count": 7,
   "metadata": {},
   "outputs": [
    {
     "data": {
      "text/plain": [
       "tensor([[0.0000, 0.0470, 0.0000, 0.0000, 0.2580],\n",
       "        [0.0000, 0.0731, 0.0000, 0.0000, 0.1913],\n",
       "        [0.0000, 0.0506, 0.0000, 0.0000, 0.1878],\n",
       "        [0.0000, 0.0261, 0.0000, 0.0000, 0.2097],\n",
       "        [0.0000, 0.0593, 0.0000, 0.0000, 0.1964],\n",
       "        [0.0000, 0.0294, 0.0000, 0.0000, 0.1986],\n",
       "        [0.0000, 0.0641, 0.0000, 0.0000, 0.2364],\n",
       "        [0.0000, 0.0433, 0.0000, 0.0000, 0.2071],\n",
       "        [0.0000, 0.0404, 0.0000, 0.0000, 0.2262],\n",
       "        [0.0000, 0.0640, 0.0000, 0.0000, 0.2239],\n",
       "        [0.0000, 0.0500, 0.0000, 0.0000, 0.1787],\n",
       "        [0.0000, 0.0322, 0.0000, 0.0000, 0.1996],\n",
       "        [0.0000, 0.0107, 0.0000, 0.0000, 0.2308],\n",
       "        [0.0000, 0.0601, 0.0000, 0.0000, 0.2311],\n",
       "        [0.0000, 0.0777, 0.0000, 0.0000, 0.1925],\n",
       "        [0.0000, 0.0364, 0.0000, 0.0000, 0.2179],\n",
       "        [0.0000, 0.0841, 0.0000, 0.0000, 0.2107],\n",
       "        [0.0000, 0.0212, 0.0000, 0.0000, 0.2817],\n",
       "        [0.0000, 0.0269, 0.0000, 0.0000, 0.1962],\n",
       "        [0.0000, 0.0926, 0.0000, 0.0000, 0.2229],\n",
       "        [0.0000, 0.0654, 0.0000, 0.0000, 0.1888],\n",
       "        [0.0000, 0.0837, 0.0000, 0.0000, 0.2382],\n",
       "        [0.0000, 0.0516, 0.0000, 0.0000, 0.2384],\n",
       "        [0.0000, 0.0262, 0.0000, 0.0000, 0.1911],\n",
       "        [0.0000, 0.0494, 0.0000, 0.0000, 0.1979],\n",
       "        [0.0000, 0.0701, 0.0000, 0.0000, 0.2180],\n",
       "        [0.0000, 0.0724, 0.0000, 0.0000, 0.2107],\n",
       "        [0.0000, 0.0562, 0.0000, 0.0000, 0.1774],\n",
       "        [0.0000, 0.0412, 0.0000, 0.0000, 0.2214],\n",
       "        [0.0000, 0.0690, 0.0000, 0.0000, 0.1798],\n",
       "        [0.0000, 0.0000, 0.0000, 0.0000, 0.2425],\n",
       "        [0.0000, 0.0824, 0.0000, 0.0000, 0.2081]], device='cuda:0',\n",
       "       grad_fn=<ReluBackward0>)"
      ]
     },
     "execution_count": 7,
     "metadata": {},
     "output_type": "execute_result"
    }
   ],
   "source": [
    "y_hat"
   ]
  },
  {
   "cell_type": "code",
   "execution_count": 70,
   "metadata": {},
   "outputs": [
    {
     "data": {
      "text/plain": [
       "4178"
      ]
     },
     "execution_count": 70,
     "metadata": {},
     "output_type": "execute_result"
    }
   ],
   "source": [
    "len(train_dataloader)"
   ]
  },
  {
   "cell_type": "code",
   "execution_count": 68,
   "metadata": {},
   "outputs": [],
   "source": [
    "lr_unsqueezed = [x[0] for x in lr]``"
   ]
  },
  {
   "cell_type": "code",
   "execution_count": 69,
   "metadata": {},
   "outputs": [
    {
     "data": {
      "text/plain": [
       "[<matplotlib.lines.Line2D at 0x7fdc9b4f3e50>]"
      ]
     },
     "execution_count": 69,
     "metadata": {},
     "output_type": "execute_result"
    },
    {
     "data": {
      "image/png": "[encoded data removed]",
      "text/plain": [
       "<Figure size 640x480 with 1 Axes>"
      ]
     },
     "metadata": {},
     "output_type": "display_data"
    }
   ],
   "source": [
    "import matplotlib.pyplot as plt\n",
    "plt.plot(lr_unsqueezed)"
   ]
  },
  {
   "cell_type": "code",
   "execution_count": 9,
   "metadata": {},
   "outputs": [
    {
     "ename": "NameError",
     "evalue": "name 'get_last_lr' is not defined",
     "output_type": "error",
     "traceback": [
      "\u001b[0;31m---------------------------------------------------------------------------\u001b[0m",
      "\u001b[0;31mNameError\u001b[0m                                 Traceback (most recent call last)",
      "Cell \u001b[0;32mIn[9], line 1\u001b[0m\n\u001b[0;32m----> 1\u001b[0m \u001b[43mget_last_lr\u001b[49m()\n",
      "\u001b[0;31mNameError\u001b[0m: name 'get_last_lr' is not defined"
     ]
    }
   ],
   "source": [
    "get_last_lr()"
   ]
  },
  {
   "cell_type": "code",
   "execution_count": 15,
   "metadata": {},
   "outputs": [
    {
     "name": "stderr",
     "output_type": "stream",
     "text": [
      "Processing batches: 100%|██████████| 1832/1832 [06:49<00:00,  4.47it/s]\n"
     ]
    },
    {
     "name": "stdout",
     "output_type": "stream",
     "text": [
      "Processing metrics...\n"
     ]
    }
   ],
   "source": [
    "from importlib import reload\n",
    "reload(am)\n",
    "reload(cmc)\n",
    "metrics = am.test_model(f'{path}', model, test_dataloader, comment ='Testing visuals', signal_name=signal_name, writer=None)"
   ]
  }
 ],
 "metadata": {
  "kernelspec": {
   "display_name": "bogdanov_VU_kernel 3.8.10",
   "language": "python",
   "name": "bogdanov_vu_3.8.10"
  },
  "language_info": {
   "codemirror_mode": {
    "name": "ipython",
    "version": 3
   },
   "file_extension": ".py",
   "mimetype": "text/x-python",
   "name": "python",
   "nbconvert_exporter": "python",
   "pygments_lexer": "ipython3",
   "version": "3.8.10"
  }
 },
 "nbformat": 4,
 "nbformat_minor": 2
}
