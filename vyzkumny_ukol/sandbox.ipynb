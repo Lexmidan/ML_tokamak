{
 "cells": [
  {
   "cell_type": "code",
   "execution_count": 1,
   "metadata": {},
   "outputs": [],
   "source": [
    "import numpy as np\n",
    "import os\n",
    "import matplotlib.pyplot as plt\n",
    "from torch.utils.data import DataLoader, Dataset, WeightedRandomSampler\n",
    "import torch\n",
    "import torch.nn.functional as F\n",
    "import pandas as pd\n",
    "import torchvision\n",
    "from tqdm import tqdm\n",
    "from torch.utils.data import DataLoader, Dataset, WeightedRandomSampler\n",
    "from torchmetrics.classification import MulticlassConfusionMatrix, F1Score, MulticlassPrecision, MulticlassRecall, MulticlassPrecisionRecallCurve, MulticlassROC\n",
    "from torch.optim import lr_scheduler\n",
    "import torch.nn as nn\n",
    "import torch\n",
    "import pytorch_lightning as pl\n",
    "from torch.utils.tensorboard import SummaryWriter\n",
    "from matplotlib.backends.backend_agg import FigureCanvasAgg\n",
    "\n",
    "import confinement_mode_classifier as cmc\n",
    "import alt_models as am\n"
   ]
  },
  {
   "cell_type": "code",
   "execution_count": 2,
   "metadata": {},
   "outputs": [
    {
     "name": "stderr",
     "output_type": "stream",
     "text": [
      "Seed set to 42\n"
     ]
    }
   ],
   "source": [
    "signal_window = 320\n",
    "num_workers = 6\n",
    "signal_name = 'mc'\n",
    "batch_size = 512\n",
    "pl.seed_everything(42)\n",
    "path=os.getcwd()\n",
    "device = torch.device('cuda' if torch.cuda.is_available() else 'cpu')\n",
    "shot_usage = pd.read_csv(f'{path}/data/shot_usage.csv')\n",
    "shot_for_ris = shot_usage[shot_usage['used_for_alt']]\n",
    "shot_numbers = shot_for_ris['shot']\n",
    "shots_for_testing = shot_for_ris[shot_for_ris['used_as'] == 'test']['shot']\n",
    "shots_for_validation = shot_for_ris[shot_for_ris['used_as'] == 'val']['shot']\n"
   ]
  },
  {
   "cell_type": "code",
   "execution_count": 3,
   "metadata": {},
   "outputs": [
    {
     "data": {
      "text/plain": [
       "<module 'alt_models' from '/compass/Shared/Users/bogdanov/vyzkumny_ukol/alt_models.py'>"
      ]
     },
     "execution_count": 3,
     "metadata": {},
     "output_type": "execute_result"
    }
   ],
   "source": [
    "from importlib import reload\n",
    "reload(am)"
   ]
  },
  {
   "cell_type": "code",
   "execution_count": 3,
   "metadata": {},
   "outputs": [],
   "source": [
    "\n",
    "shot_df, test_df, val_df, train_df = am.split_df(path, shot_numbers, shots_for_testing, shots_for_validation, use_ELMS=True, signal_name=signal_name)\n",
    "\n",
    "\n",
    "# Create dataloaders\n",
    "train_dataloader = am.get_dloader(train_df, batch_size=batch_size, \n",
    "                            balance_data=True, shuffle=False, \n",
    "                            signal_window=signal_window,\n",
    "                            signal_name=signal_name,\n",
    "                            num_workers=num_workers)\n",
    "\n",
    "val_dataloader = am.get_dloader(val_df, batch_size=batch_size, \n",
    "                            balance_data=True, shuffle=False, \n",
    "                            signal_window=signal_window,\n",
    "                            signal_name=signal_name,\n",
    "                            num_workers=num_workers)\n",
    "\n",
    "test_dataloader = am.get_dloader(test_df, batch_size=batch_size, \n",
    "                            balance_data=False, shuffle=False, \n",
    "                            signal_window=signal_window,\n",
    "                            signal_name=signal_name,\n",
    "                            num_workers=num_workers)"
   ]
  },
  {
   "cell_type": "code",
   "execution_count": 8,
   "metadata": {},
   "outputs": [
    {
     "data": {
      "text/plain": [
       "torch.Size([512, 320, 4])"
      ]
     },
     "execution_count": 8,
     "metadata": {},
     "output_type": "execute_result"
    }
   ],
   "source": [
    "model = am.select_model_architecture('InceptionTime', num_classes=3, window=320)\n",
    "model.load_state_dict(torch.load(f'/compass/Shared/Users/bogdanov/vyzkumny_ukol/runs/24-02-22, 18-31-57 InceptionTime_on_Mink_coil_320dpoints_16_epochs/model.pt'))\n",
    "model.eval()\n",
    "\n",
    "model.to(device)"
   ]
  },
  {
   "cell_type": "code",
   "execution_count": 15,
   "metadata": {},
   "outputs": [],
   "source": [
    "optimizer = torch.optim.AdamW(model.parameters(), lr=200, weight_decay=0.01)\n",
    "exp_lr_scheduler = lr_scheduler.OneCycleLR(optimizer, max_lr=0.01, total_steps=24) #!!!\n",
    "learning_rates = []\n",
    "for i in range(24):\n",
    "    a = model(next(iter(train_dataloader))[signal_name].to(device).float())\n",
    "    optimizer.step()\n",
    "    exp_lr_scheduler.step()\n",
    "    learning_rates.append(exp_lr_scheduler.get_last_lr())"
   ]
  }
 ],
 "metadata": {
  "kernelspec": {
   "display_name": "Python 3.9 [anaconda-2023.07]",
   "language": "python",
   "name": "python3.9-anaconda-2023.07"
  }
 },
 "nbformat": 4,
 "nbformat_minor": 2
}
