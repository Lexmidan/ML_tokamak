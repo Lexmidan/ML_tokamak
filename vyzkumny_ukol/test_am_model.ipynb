{
 "cells": [
  {
   "cell_type": "markdown",
   "metadata": {},
   "source": [
    "# Model testing\n",
    "\n",
    "- It's just a testing ground for the model. One model is loaded and a `cmc.test_model` is applied on it.\n",
    "- As a result confusion matrix, ROC, AUROC, F1, PR curves will be generated and saved to the model's folder"
   ]
  },
  {
   "cell_type": "code",
   "execution_count": 2,
   "metadata": {},
   "outputs": [],
   "source": [
    "import os\n",
    "from pathlib import Path\n",
    "import re\n",
    "import time \n",
    "from datetime import datetime\n",
    "import json\n",
    "\n",
    "import matplotlib.pyplot as plt\n",
    "import torch\n",
    "from torch.optim import lr_scheduler\n",
    "import torch.nn as nn\n",
    "from torch.utils.tensorboard import SummaryWriter\n",
    "import pandas as pd\n",
    "import pytorch_lightning as pl\n",
    "\n",
    "import alt_models as am\n"
   ]
  },
  {
   "cell_type": "code",
   "execution_count": 3,
   "metadata": {},
   "outputs": [],
   "source": [
    "signal_name = 'mc'\n",
    "architecture = 'InceptionTime'\n",
    "signal_window = 320\n",
    "sampling_freq = 300\n",
    "batch_size = 256\n",
    "num_workers = 32\n",
    "num_epochs = 16\n",
    "dpoints_in_future = 160\n",
    "learning_rate_max = 0.01\n",
    "num_classes=2\n",
    "comment_for_model_name = ''\n",
    "exponential_elm_decay=False\n",
    "use_ELMs=False\n",
    "only_ELMs=True\n",
    "\n",
    "random_seed = 42\n",
    "\n",
    "if signal_name == 'mc':\n",
    "    in_channels = 4\n",
    "else:\n",
    "    in_channels = 1"
   ]
  },
  {
   "cell_type": "code",
   "execution_count": 6,
   "metadata": {},
   "outputs": [
    {
     "name": "stderr",
     "output_type": "stream",
     "text": [
      "Seed set to 42\n"
     ]
    }
   ],
   "source": [
    "pl.seed_everything(random_seed)\n",
    "device = torch.device(\"cuda:0\") if torch.cuda.is_available() else torch.device(\"cpu\")\n",
    "path = Path(os.getcwd())\n",
    "comment_for_model_name = architecture  + comment_for_model_name\n",
    "    \n",
    "# Load data\n",
    "shot_usage = pd.read_csv(f'{path}/data/shot_usage.csv')\n",
    "shot_for_alt = shot_usage[shot_usage['used_for_alt']]\n",
    "shot_numbers = shot_for_alt['shot']\n",
    "shots_for_testing = shot_for_alt[shot_for_alt['used_as'] == 'test']['shot']\n",
    "shots_for_validation = shot_for_alt[shot_for_alt['used_as'] == 'val']['shot']\n",
    "shots_for_training = shot_for_alt[shot_for_alt['used_as'] == 'train']['shot']\n",
    "shot_df, test_df, val_df, train_df = am.split_df(path, shot_numbers, \n",
    "                                                 shots_for_training, \n",
    "                                                 shots_for_testing, \n",
    "                                                 shots_for_validation, \n",
    "                                                 use_ELMs=use_ELMs, \n",
    "                                                 signal_name=signal_name, \n",
    "                                                 sampling_freq=sampling_freq, \n",
    "                                                 only_ELMs=only_ELMs,\n",
    "                                                 exponential_elm_decay=exponential_elm_decay)"
   ]
  },
  {
   "cell_type": "code",
   "execution_count": 9,
   "metadata": {},
   "outputs": [
    {
     "data": {
      "text/html": [
       "<div>\n",
       "<style scoped>\n",
       "    .dataframe tbody tr th:only-of-type {\n",
       "        vertical-align: middle;\n",
       "    }\n",
       "\n",
       "    .dataframe tbody tr th {\n",
       "        vertical-align: top;\n",
       "    }\n",
       "\n",
       "    .dataframe thead th {\n",
       "        text-align: right;\n",
       "    }\n",
       "</style>\n",
       "<table border=\"1\" class=\"dataframe\">\n",
       "  <thead>\n",
       "    <tr style=\"text-align: right;\">\n",
       "      <th></th>\n",
       "      <th>time</th>\n",
       "      <th>mcHFS</th>\n",
       "      <th>mcLFS</th>\n",
       "      <th>mcDIV</th>\n",
       "      <th>mcTOP</th>\n",
       "      <th>mode</th>\n",
       "      <th>shot</th>\n",
       "    </tr>\n",
       "  </thead>\n",
       "  <tbody>\n",
       "    <tr>\n",
       "      <th>88065</th>\n",
       "      <td>1132.5615</td>\n",
       "      <td>0.124578</td>\n",
       "      <td>35.594368</td>\n",
       "      <td>-0.723910</td>\n",
       "      <td>5.598574</td>\n",
       "      <td>1</td>\n",
       "      <td>16534</td>\n",
       "    </tr>\n",
       "    <tr>\n",
       "      <th>88066</th>\n",
       "      <td>1132.5650</td>\n",
       "      <td>-0.457848</td>\n",
       "      <td>34.515992</td>\n",
       "      <td>-2.590261</td>\n",
       "      <td>6.032139</td>\n",
       "      <td>1</td>\n",
       "      <td>16534</td>\n",
       "    </tr>\n",
       "    <tr>\n",
       "      <th>88067</th>\n",
       "      <td>1132.5685</td>\n",
       "      <td>-1.131902</td>\n",
       "      <td>24.341243</td>\n",
       "      <td>-4.876830</td>\n",
       "      <td>8.892243</td>\n",
       "      <td>1</td>\n",
       "      <td>16534</td>\n",
       "    </tr>\n",
       "    <tr>\n",
       "      <th>88068</th>\n",
       "      <td>1132.5720</td>\n",
       "      <td>-1.061405</td>\n",
       "      <td>21.943723</td>\n",
       "      <td>-9.279986</td>\n",
       "      <td>7.798000</td>\n",
       "      <td>1</td>\n",
       "      <td>16534</td>\n",
       "    </tr>\n",
       "    <tr>\n",
       "      <th>88069</th>\n",
       "      <td>1132.5755</td>\n",
       "      <td>-1.935598</td>\n",
       "      <td>-14.851396</td>\n",
       "      <td>-11.082296</td>\n",
       "      <td>11.011014</td>\n",
       "      <td>1</td>\n",
       "      <td>16534</td>\n",
       "    </tr>\n",
       "    <tr>\n",
       "      <th>...</th>\n",
       "      <td>...</td>\n",
       "      <td>...</td>\n",
       "      <td>...</td>\n",
       "      <td>...</td>\n",
       "      <td>...</td>\n",
       "      <td>...</td>\n",
       "      <td>...</td>\n",
       "    </tr>\n",
       "    <tr>\n",
       "      <th>921448</th>\n",
       "      <td>1235.4615</td>\n",
       "      <td>-1.115302</td>\n",
       "      <td>58.321652</td>\n",
       "      <td>-9.928972</td>\n",
       "      <td>-8.646096</td>\n",
       "      <td>1</td>\n",
       "      <td>20112</td>\n",
       "    </tr>\n",
       "    <tr>\n",
       "      <th>921449</th>\n",
       "      <td>1235.4650</td>\n",
       "      <td>0.895368</td>\n",
       "      <td>1.500067</td>\n",
       "      <td>-10.197856</td>\n",
       "      <td>1.741964</td>\n",
       "      <td>1</td>\n",
       "      <td>20112</td>\n",
       "    </tr>\n",
       "    <tr>\n",
       "      <th>921450</th>\n",
       "      <td>1235.4685</td>\n",
       "      <td>0.518779</td>\n",
       "      <td>8.283924</td>\n",
       "      <td>-3.192000</td>\n",
       "      <td>13.574090</td>\n",
       "      <td>1</td>\n",
       "      <td>20112</td>\n",
       "    </tr>\n",
       "    <tr>\n",
       "      <th>921451</th>\n",
       "      <td>1235.4720</td>\n",
       "      <td>0.755345</td>\n",
       "      <td>-3.546187</td>\n",
       "      <td>-6.823182</td>\n",
       "      <td>-7.022639</td>\n",
       "      <td>1</td>\n",
       "      <td>20112</td>\n",
       "    </tr>\n",
       "    <tr>\n",
       "      <th>921452</th>\n",
       "      <td>1235.4755</td>\n",
       "      <td>2.679906</td>\n",
       "      <td>-0.467151</td>\n",
       "      <td>-4.731709</td>\n",
       "      <td>-10.702855</td>\n",
       "      <td>1</td>\n",
       "      <td>20112</td>\n",
       "    </tr>\n",
       "  </tbody>\n",
       "</table>\n",
       "<p>27650 rows × 7 columns</p>\n",
       "</div>"
      ],
      "text/plain": [
       "             time     mcHFS      mcLFS      mcDIV      mcTOP mode   shot\n",
       "88065   1132.5615  0.124578  35.594368  -0.723910   5.598574    1  16534\n",
       "88066   1132.5650 -0.457848  34.515992  -2.590261   6.032139    1  16534\n",
       "88067   1132.5685 -1.131902  24.341243  -4.876830   8.892243    1  16534\n",
       "88068   1132.5720 -1.061405  21.943723  -9.279986   7.798000    1  16534\n",
       "88069   1132.5755 -1.935598 -14.851396 -11.082296  11.011014    1  16534\n",
       "...           ...       ...        ...        ...        ...  ...    ...\n",
       "921448  1235.4615 -1.115302  58.321652  -9.928972  -8.646096    1  20112\n",
       "921449  1235.4650  0.895368   1.500067 -10.197856   1.741964    1  20112\n",
       "921450  1235.4685  0.518779   8.283924  -3.192000  13.574090    1  20112\n",
       "921451  1235.4720  0.755345  -3.546187  -6.823182  -7.022639    1  20112\n",
       "921452  1235.4755  2.679906  -0.467151  -4.731709 -10.702855    1  20112\n",
       "\n",
       "[27650 rows x 7 columns]"
      ]
     },
     "execution_count": 9,
     "metadata": {},
     "output_type": "execute_result"
    }
   ],
   "source": [
    "test_df[test_df['mode']==1]\n"
   ]
  },
  {
   "cell_type": "code",
   "execution_count": 10,
   "metadata": {},
   "outputs": [],
   "source": [
    "test_dataloader = am.get_dloader(test_df, batch_size=batch_size, \n",
    "                                balance_data=False, shuffle=False, \n",
    "                                signal_window=signal_window,\n",
    "                                signal_name=signal_name,\n",
    "                                num_workers=num_workers)"
   ]
  },
  {
   "cell_type": "markdown",
   "metadata": {},
   "source": [
    "### Load the model"
   ]
  },
  {
   "cell_type": "code",
   "execution_count": 20,
   "metadata": {},
   "outputs": [
    {
     "data": {
      "text/plain": [
       "Sequential(\n",
       "  (0): Reshape()\n",
       "  (1): InceptionBlock(\n",
       "    (activation): ReLU()\n",
       "    (inception_1): Inception(\n",
       "      (bottleneck): Conv1d(4, 32, kernel_size=(1,), stride=(1,), bias=False)\n",
       "      (conv_from_bottleneck_1): Conv1d(32, 32, kernel_size=(5,), stride=(1,), padding=(2,), bias=False)\n",
       "      (conv_from_bottleneck_2): Conv1d(32, 32, kernel_size=(11,), stride=(1,), padding=(5,), bias=False)\n",
       "      (conv_from_bottleneck_3): Conv1d(32, 32, kernel_size=(23,), stride=(1,), padding=(11,), bias=False)\n",
       "      (max_pool): MaxPool1d(kernel_size=3, stride=1, padding=1, dilation=1, ceil_mode=False)\n",
       "      (conv_from_maxpool): Conv1d(4, 32, kernel_size=(1,), stride=(1,), bias=False)\n",
       "      (batch_norm): BatchNorm1d(128, eps=1e-05, momentum=0.1, affine=True, track_running_stats=True)\n",
       "      (activation): ReLU()\n",
       "    )\n",
       "    (inception_2): Inception(\n",
       "      (bottleneck): Conv1d(128, 32, kernel_size=(1,), stride=(1,), bias=False)\n",
       "      (conv_from_bottleneck_1): Conv1d(32, 32, kernel_size=(5,), stride=(1,), padding=(2,), bias=False)\n",
       "      (conv_from_bottleneck_2): Conv1d(32, 32, kernel_size=(11,), stride=(1,), padding=(5,), bias=False)\n",
       "      (conv_from_bottleneck_3): Conv1d(32, 32, kernel_size=(23,), stride=(1,), padding=(11,), bias=False)\n",
       "      (max_pool): MaxPool1d(kernel_size=3, stride=1, padding=1, dilation=1, ceil_mode=False)\n",
       "      (conv_from_maxpool): Conv1d(128, 32, kernel_size=(1,), stride=(1,), bias=False)\n",
       "      (batch_norm): BatchNorm1d(128, eps=1e-05, momentum=0.1, affine=True, track_running_stats=True)\n",
       "      (activation): ReLU()\n",
       "    )\n",
       "    (inception_3): Inception(\n",
       "      (bottleneck): Conv1d(128, 32, kernel_size=(1,), stride=(1,), bias=False)\n",
       "      (conv_from_bottleneck_1): Conv1d(32, 32, kernel_size=(5,), stride=(1,), padding=(2,), bias=False)\n",
       "      (conv_from_bottleneck_2): Conv1d(32, 32, kernel_size=(11,), stride=(1,), padding=(5,), bias=False)\n",
       "      (conv_from_bottleneck_3): Conv1d(32, 32, kernel_size=(23,), stride=(1,), padding=(11,), bias=False)\n",
       "      (max_pool): MaxPool1d(kernel_size=3, stride=1, padding=1, dilation=1, ceil_mode=False)\n",
       "      (conv_from_maxpool): Conv1d(128, 32, kernel_size=(1,), stride=(1,), bias=False)\n",
       "      (batch_norm): BatchNorm1d(128, eps=1e-05, momentum=0.1, affine=True, track_running_stats=True)\n",
       "      (activation): ReLU()\n",
       "    )\n",
       "    (residual): Sequential(\n",
       "      (0): Conv1d(4, 128, kernel_size=(1,), stride=(1,))\n",
       "      (1): BatchNorm1d(128, eps=1e-05, momentum=0.1, affine=True, track_running_stats=True)\n",
       "    )\n",
       "  )\n",
       "  (2): InceptionBlock(\n",
       "    (activation): ReLU()\n",
       "    (inception_1): Inception(\n",
       "      (bottleneck): Conv1d(128, 32, kernel_size=(1,), stride=(1,), bias=False)\n",
       "      (conv_from_bottleneck_1): Conv1d(32, 32, kernel_size=(5,), stride=(1,), padding=(2,), bias=False)\n",
       "      (conv_from_bottleneck_2): Conv1d(32, 32, kernel_size=(11,), stride=(1,), padding=(5,), bias=False)\n",
       "      (conv_from_bottleneck_3): Conv1d(32, 32, kernel_size=(23,), stride=(1,), padding=(11,), bias=False)\n",
       "      (max_pool): MaxPool1d(kernel_size=3, stride=1, padding=1, dilation=1, ceil_mode=False)\n",
       "      (conv_from_maxpool): Conv1d(128, 32, kernel_size=(1,), stride=(1,), bias=False)\n",
       "      (batch_norm): BatchNorm1d(128, eps=1e-05, momentum=0.1, affine=True, track_running_stats=True)\n",
       "      (activation): ReLU()\n",
       "    )\n",
       "    (inception_2): Inception(\n",
       "      (bottleneck): Conv1d(128, 32, kernel_size=(1,), stride=(1,), bias=False)\n",
       "      (conv_from_bottleneck_1): Conv1d(32, 32, kernel_size=(5,), stride=(1,), padding=(2,), bias=False)\n",
       "      (conv_from_bottleneck_2): Conv1d(32, 32, kernel_size=(11,), stride=(1,), padding=(5,), bias=False)\n",
       "      (conv_from_bottleneck_3): Conv1d(32, 32, kernel_size=(23,), stride=(1,), padding=(11,), bias=False)\n",
       "      (max_pool): MaxPool1d(kernel_size=3, stride=1, padding=1, dilation=1, ceil_mode=False)\n",
       "      (conv_from_maxpool): Conv1d(128, 32, kernel_size=(1,), stride=(1,), bias=False)\n",
       "      (batch_norm): BatchNorm1d(128, eps=1e-05, momentum=0.1, affine=True, track_running_stats=True)\n",
       "      (activation): ReLU()\n",
       "    )\n",
       "    (inception_3): Inception(\n",
       "      (bottleneck): Conv1d(128, 32, kernel_size=(1,), stride=(1,), bias=False)\n",
       "      (conv_from_bottleneck_1): Conv1d(32, 32, kernel_size=(5,), stride=(1,), padding=(2,), bias=False)\n",
       "      (conv_from_bottleneck_2): Conv1d(32, 32, kernel_size=(11,), stride=(1,), padding=(5,), bias=False)\n",
       "      (conv_from_bottleneck_3): Conv1d(32, 32, kernel_size=(23,), stride=(1,), padding=(11,), bias=False)\n",
       "      (max_pool): MaxPool1d(kernel_size=3, stride=1, padding=1, dilation=1, ceil_mode=False)\n",
       "      (conv_from_maxpool): Conv1d(128, 32, kernel_size=(1,), stride=(1,), bias=False)\n",
       "      (batch_norm): BatchNorm1d(128, eps=1e-05, momentum=0.1, affine=True, track_running_stats=True)\n",
       "      (activation): ReLU()\n",
       "    )\n",
       "    (residual): Sequential(\n",
       "      (0): Conv1d(128, 128, kernel_size=(1,), stride=(1,))\n",
       "      (1): BatchNorm1d(128, eps=1e-05, momentum=0.1, affine=True, track_running_stats=True)\n",
       "    )\n",
       "  )\n",
       "  (3): AdaptiveAvgPool1d(output_size=1)\n",
       "  (4): Flatten()\n",
       "  (5): Linear(in_features=128, out_features=2, bias=True)\n",
       ")"
      ]
     },
     "execution_count": 20,
     "metadata": {},
     "output_type": "execute_result"
    }
   ],
   "source": [
    "pretrained_model = am.select_model_architecture(architecture=architecture, window=signal_window, \n",
    "                                               num_classes=2, in_channels=in_channels)\n",
    "\n",
    "#Which model to test?\n",
    "model_path = f'{path}/runs/24-04-15, 19-22-16 InceptionTime ELMs only, 4 mirnov_coils, 320 window, 300 sampling_freq'\n",
    "\n",
    "pretrained_model.load_state_dict(torch.load(f'{model_path}/model.pt'))\n",
    "pretrained_model.eval()\n",
    "pretrained_model.to(device)\n",
    "\n"
   ]
  },
  {
   "cell_type": "markdown",
   "metadata": {},
   "source": [
    "### Test model on unbalanced test dset"
   ]
  },
  {
   "cell_type": "code",
   "execution_count": 21,
   "metadata": {},
   "outputs": [
    {
     "name": "stderr",
     "output_type": "stream",
     "text": [
      "Processing batches: 100%|██████████| 3664/3664 [00:52<00:00, 70.26it/s]\n"
     ]
    },
    {
     "name": "stdout",
     "output_type": "stream",
     "text": [
      "Processing metrics...\n"
     ]
    }
   ],
   "source": [
    "import confinement_mode_classifier as cmc\n",
    "metrics = cmc.test_model(model_path, \n",
    "                         pretrained_model, \n",
    "                         test_dataloader, \n",
    "                         max_batch=0, \n",
    "                         comment='last_epoch',\n",
    "                         signal_name=signal_name,\n",
    "                         num_classes=num_classes)\n",
    "\n"
   ]
  },
  {
   "cell_type": "markdown",
   "metadata": {},
   "source": [
    "### Here the model is tested on individual shots (generates time-confidence graph)"
   ]
  },
  {
   "cell_type": "code",
   "execution_count": 22,
   "metadata": {},
   "outputs": [
    {
     "name": "stderr",
     "output_type": "stream",
     "text": [
      "100%|██████████| 12/12 [00:10<00:00,  1.10it/s]\n"
     ]
    }
   ],
   "source": [
    "shots_for_testing_list = list(map(int,shots_for_testing))\n",
    "img_path = cmc.per_shot_test(path=model_path, \n",
    "                             shots=shots_for_testing_list, \n",
    "                             results_df=metrics['prediction_df'],\n",
    "                             num_classes=num_classes)\n",
    "plt.close()"
   ]
  },
  {
   "cell_type": "code",
   "execution_count": 25,
   "metadata": {},
   "outputs": [
    {
     "data": {
      "text/plain": [
       "0.7808891"
      ]
     },
     "execution_count": 25,
     "metadata": {},
     "output_type": "execute_result"
    }
   ],
   "source": [
    "metrics['pr_roc_curves']['pr_auc']"
   ]
  },
  {
   "cell_type": "code",
   "execution_count": null,
   "metadata": {},
   "outputs": [],
   "source": []
  }
 ],
 "metadata": {
  "kernelspec": {
   "display_name": "bogdanov_VU_kernel 3.8.10",
   "language": "python",
   "name": "bogdanov_vu_3.8.10"
  },
  "language_info": {
   "codemirror_mode": {
    "name": "ipython",
    "version": 3
   },
   "file_extension": ".py",
   "mimetype": "text/x-python",
   "name": "python",
   "nbconvert_exporter": "python",
   "pygments_lexer": "ipython3",
   "version": "3.8.10"
  }
 },
 "nbformat": 4,
 "nbformat_minor": 2
}
