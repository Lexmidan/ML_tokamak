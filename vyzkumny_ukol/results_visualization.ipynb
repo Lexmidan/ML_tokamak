{
 "cells": [
  {
   "cell_type": "markdown",
   "metadata": {},
   "source": [
    "I strongly recomend to use tensorboard in pair with this notebook as a combined tool for visualization.\n",
    "`tensorboard --logdir ./runs`"
   ]
  },
  {
   "cell_type": "code",
   "execution_count": 1,
   "metadata": {},
   "outputs": [
    {
     "data": {
      "text/html": [
       "<style>.container { width:85% !important; }</style>"
      ],
      "text/plain": [
       "<IPython.core.display.HTML object>"
      ]
     },
     "metadata": {},
     "output_type": "display_data"
    },
    {
     "data": {
      "text/html": [
       "<style>.CodeMirror { font-size: 13px !important; }</style>"
      ],
      "text/plain": [
       "<IPython.core.display.HTML object>"
      ]
     },
     "metadata": {},
     "output_type": "display_data"
    }
   ],
   "source": [
    "\n",
    "#Nechce se mi menit custom.css\n",
    "from IPython.display import display, HTML\n",
    "display(HTML(\"<style>.container { width:85% !important; }</style>\"))\n",
    "display(HTML(\"<style>.CodeMirror { font-size: 13px !important; }</style>\"))\n"
   ]
  },
  {
   "cell_type": "code",
   "execution_count": 2,
   "metadata": {},
   "outputs": [],
   "source": [
    "import pandas as pd\n",
    "import numpy as np\n",
    "import matplotlib.pyplot as plt\n",
    "import ipywidgets as widgets\n",
    "from IPython.display import display, clear_output\n",
    "import os\n",
    "import visual\n",
    "import json\n",
    "\n",
    "path = '/compass/Shared/Users/bogdanov/vyzkumny_ukol'\n",
    "runs_path = f'{path}/runs'"
   ]
  },
  {
   "cell_type": "code",
   "execution_count": 3,
   "metadata": {},
   "outputs": [],
   "source": [
    "#Identify all runs.\n",
    "runs = []\n",
    "for root, dirs, files in os.walk('/compass/Shared/Users/bogdanov/vyzkumny_ukol/runs'):\n",
    "    if root == '/compass/Shared/Users/bogdanov/vyzkumny_ukol/runs':\n",
    "        runs.extend(dirs)\n",
    "        break\n",
    "runs.sort()\n",
    "        \n",
    "#Identify all shots.\n",
    "shot_usage = pd.read_csv('/compass/Shared/Users/bogdanov/vyzkumny_ukol/data/shot_usageNEW.csv')\n",
    "shots = list(shot_usage[(shot_usage['used_as']=='test') | (shot_usage['used_as']=='val')]['shot'].astype(int))"
   ]
  },
  {
   "cell_type": "code",
   "execution_count": 4,
   "metadata": {},
   "outputs": [],
   "source": [
    "runs = [run for run in runs if '_last_fc' not in run]"
   ]
  },
  {
   "cell_type": "code",
   "execution_count": 5,
   "metadata": {},
   "outputs": [
    {
     "data": {
      "text/html": [
       "<div>\n",
       "<style scoped>\n",
       "    .dataframe tbody tr th:only-of-type {\n",
       "        vertical-align: middle;\n",
       "    }\n",
       "\n",
       "    .dataframe tbody tr th {\n",
       "        vertical-align: top;\n",
       "    }\n",
       "\n",
       "    .dataframe thead th {\n",
       "        text-align: right;\n",
       "    }\n",
       "</style>\n",
       "<table border=\"1\" class=\"dataframe\">\n",
       "  <thead>\n",
       "    <tr style=\"text-align: right;\">\n",
       "      <th></th>\n",
       "      <th>shot</th>\n",
       "      <th>used_as</th>\n",
       "      <th>used_for_ris1</th>\n",
       "      <th>used_for_ris2</th>\n",
       "      <th>used_for_alt</th>\n",
       "      <th>comment</th>\n",
       "    </tr>\n",
       "  </thead>\n",
       "  <tbody>\n",
       "    <tr>\n",
       "      <th>0</th>\n",
       "      <td>13182</td>\n",
       "      <td>test</td>\n",
       "      <td>False</td>\n",
       "      <td>False</td>\n",
       "      <td>True</td>\n",
       "      <td>jiny rozmer obrazku</td>\n",
       "    </tr>\n",
       "    <tr>\n",
       "      <th>1</th>\n",
       "      <td>16532</td>\n",
       "      <td>train</td>\n",
       "      <td>True</td>\n",
       "      <td>True</td>\n",
       "      <td>True</td>\n",
       "      <td>-</td>\n",
       "    </tr>\n",
       "    <tr>\n",
       "      <th>2</th>\n",
       "      <td>16534</td>\n",
       "      <td>test</td>\n",
       "      <td>True</td>\n",
       "      <td>True</td>\n",
       "      <td>True</td>\n",
       "      <td>-</td>\n",
       "    </tr>\n",
       "    <tr>\n",
       "      <th>3</th>\n",
       "      <td>16769</td>\n",
       "      <td>val</td>\n",
       "      <td>True</td>\n",
       "      <td>True</td>\n",
       "      <td>True</td>\n",
       "      <td>-</td>\n",
       "    </tr>\n",
       "    <tr>\n",
       "      <th>4</th>\n",
       "      <td>16773</td>\n",
       "      <td>test</td>\n",
       "      <td>True</td>\n",
       "      <td>True</td>\n",
       "      <td>True</td>\n",
       "      <td>-</td>\n",
       "    </tr>\n",
       "    <tr>\n",
       "      <th>...</th>\n",
       "      <td>...</td>\n",
       "      <td>...</td>\n",
       "      <td>...</td>\n",
       "      <td>...</td>\n",
       "      <td>...</td>\n",
       "      <td>...</td>\n",
       "    </tr>\n",
       "    <tr>\n",
       "      <th>86</th>\n",
       "      <td>20143</td>\n",
       "      <td>val</td>\n",
       "      <td>False</td>\n",
       "      <td>False</td>\n",
       "      <td>True</td>\n",
       "      <td>jiny rozmer obrazku a neni mcLFS</td>\n",
       "    </tr>\n",
       "    <tr>\n",
       "      <th>87</th>\n",
       "      <td>20144</td>\n",
       "      <td>val</td>\n",
       "      <td>False</td>\n",
       "      <td>False</td>\n",
       "      <td>True</td>\n",
       "      <td>jiny rozmer obrazku a neni mcLFS</td>\n",
       "    </tr>\n",
       "    <tr>\n",
       "      <th>88</th>\n",
       "      <td>20145</td>\n",
       "      <td>val</td>\n",
       "      <td>False</td>\n",
       "      <td>False</td>\n",
       "      <td>True</td>\n",
       "      <td>jiny rozmer obrazku a neni mcLFS</td>\n",
       "    </tr>\n",
       "    <tr>\n",
       "      <th>89</th>\n",
       "      <td>20146</td>\n",
       "      <td>val</td>\n",
       "      <td>False</td>\n",
       "      <td>False</td>\n",
       "      <td>True</td>\n",
       "      <td>jiny rozmer obrazku a neni mcLFS</td>\n",
       "    </tr>\n",
       "    <tr>\n",
       "      <th>90</th>\n",
       "      <td>20147</td>\n",
       "      <td>val</td>\n",
       "      <td>False</td>\n",
       "      <td>False</td>\n",
       "      <td>True</td>\n",
       "      <td>jiny rozmer obrazku a neni mcLFS</td>\n",
       "    </tr>\n",
       "  </tbody>\n",
       "</table>\n",
       "<p>91 rows × 6 columns</p>\n",
       "</div>"
      ],
      "text/plain": [
       "     shot used_as  used_for_ris1  used_for_ris2  used_for_alt  \\\n",
       "0   13182    test          False          False          True   \n",
       "1   16532   train           True           True          True   \n",
       "2   16534    test           True           True          True   \n",
       "3   16769     val           True           True          True   \n",
       "4   16773    test           True           True          True   \n",
       "..    ...     ...            ...            ...           ...   \n",
       "86  20143     val          False          False          True   \n",
       "87  20144     val          False          False          True   \n",
       "88  20145     val          False          False          True   \n",
       "89  20146     val          False          False          True   \n",
       "90  20147     val          False          False          True   \n",
       "\n",
       "                             comment  \n",
       "0                jiny rozmer obrazku  \n",
       "1                                  -  \n",
       "2                                  -  \n",
       "3                                  -  \n",
       "4                                  -  \n",
       "..                               ...  \n",
       "86  jiny rozmer obrazku a neni mcLFS  \n",
       "87  jiny rozmer obrazku a neni mcLFS  \n",
       "88  jiny rozmer obrazku a neni mcLFS  \n",
       "89  jiny rozmer obrazku a neni mcLFS  \n",
       "90  jiny rozmer obrazku a neni mcLFS  \n",
       "\n",
       "[91 rows x 6 columns]"
      ]
     },
     "execution_count": 5,
     "metadata": {},
     "output_type": "execute_result"
    }
   ],
   "source": [
    "shot_usage"
   ]
  },
  {
   "cell_type": "code",
   "execution_count": 6,
   "metadata": {},
   "outputs": [
    {
     "data": {
      "application/vnd.jupyter.widget-view+json": {
       "model_id": "5ef1941c1e304bcfbf36af288f7e04fb",
       "version_major": 2,
       "version_minor": 0
      },
      "text/plain": [
       "interactive(children=(Dropdown(description='run:', index=43, options=('24-04-28, 22-55-08 InceptionTime no L-m…"
      ]
     },
     "metadata": {},
     "output_type": "display_data"
    },
    {
     "data": {
      "text/plain": [
       "<function visual.visualize(path_to_run, shot, figure_vertical_size, figure_horizontal_size, zoom_signal, zoom_time, time_for_signal)>"
      ]
     },
     "execution_count": 6,
     "metadata": {},
     "output_type": "execute_result"
    }
   ],
   "source": [
    "\n",
    "#path_to_csv = f'{path}/runs/24-04-30, 07-44-01 Simple1DCNN mc_h_alpha, no L-mode, weigth_decay=0.1, soft_labels/predictions_on_test_dset_df.csv'\n",
    "widgets.interact(visual.visualize,\n",
    "    path_to_run=widgets.Dropdown(\n",
    "                    options=runs,\n",
    "                    value=runs[-3],\n",
    "                    description='run:',\n",
    "                    orientation='horizontal'),\n",
    "    shot=widgets.Dropdown(\n",
    "                    options=shots,\n",
    "                    value=shots[7],\n",
    "                    description='shot:',\n",
    "                    orientation='horizontal'),\n",
    "    zoom_signal=widgets.IntSlider(\n",
    "                    min=0, max=100, step=1, \n",
    "                    value=60,\n",
    "                    description='Zoom Signal (vert):',\n",
    "                    layout={'width': '500px'}),\n",
    "    figure_horizontal_size=widgets.FloatSlider(\n",
    "                    min=0.1, max=3, step=0.05,\n",
    "                    description='Hor fig size:',\n",
    "                    value=1),\n",
    "    figure_vertical_size=widgets.FloatSlider(\n",
    "                    min=0.1, max=3, step=0.05,\n",
    "                    description='Ver fig size:',\n",
    "                    value=1),\n",
    "    zoom_time=widgets.IntSlider(\n",
    "                    min=20, max=120, step=1, \n",
    "                    value=50,\n",
    "                    description='Zoom Time:',\n",
    "                    layout={'width': '500px'}),\n",
    "    time_for_signal=widgets.FloatSlider(\n",
    "                    min=950, max=1300, step=0.1, \n",
    "                    value=1100,\n",
    "                    description='Time:',\n",
    "                    layout={'width': '900px'})\n",
    "                )\n"
   ]
  },
  {
   "cell_type": "code",
   "execution_count": null,
   "metadata": {},
   "outputs": [],
   "source": []
  },
  {
   "cell_type": "code",
   "execution_count": null,
   "metadata": {},
   "outputs": [],
   "source": []
  }
 ],
 "metadata": {
  "celltoolbar": "Raw Cell Format",
  "kernelspec": {
   "display_name": "bogdanov_VU_kernel 3.8.10",
   "language": "python",
   "name": "bogdanov_vu_3.8.10"
  },
  "language_info": {
   "codemirror_mode": {
    "name": "ipython",
    "version": 3
   },
   "file_extension": ".py",
   "mimetype": "text/x-python",
   "name": "python",
   "nbconvert_exporter": "python",
   "pygments_lexer": "ipython3",
   "version": "3.8.10"
  }
 },
 "nbformat": 4,
 "nbformat_minor": 4
}
