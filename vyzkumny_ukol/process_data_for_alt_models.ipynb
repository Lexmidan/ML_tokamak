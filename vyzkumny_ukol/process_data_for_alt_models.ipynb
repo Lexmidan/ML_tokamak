{
 "cells": [
  {
   "cell_type": "markdown",
   "metadata": {},
   "source": [
    "## Data proccessing for supplementary models"
   ]
  },
  {
   "cell_type": "code",
   "execution_count": 7,
   "metadata": {},
   "outputs": [],
   "source": [
    "import os\n",
    "import pandas as pd\n",
    "os.chdir('/compass/Shared/Users/bogdanov/vyzkumny_ukol')\n",
    "import process_data_for_alt_models as pda\n",
    "shot_usage = pd.read_csv(f'./data/shot_usage.csv')\n",
    "shot_for_alt = shot_usage[shot_usage['used_for_alt']]\n",
    "shot_numbers = shot_for_alt['shot']\n",
    "\n",
    "shot_numbers= [19240]"
   ]
  },
  {
   "cell_type": "code",
   "execution_count": 8,
   "metadata": {},
   "outputs": [
    {
     "name": "stderr",
     "output_type": "stream",
     "text": [
      "working on shot:19240: 100%|██████████| 1/1 [00:03<00:00,  3.43s/it]\n",
      "working on shot:19240: 100%|██████████| 1/1 [00:00<00:00,  1.22it/s]\n",
      "working on shot:19240: 100%|██████████| 1/1 [00:00<00:00,  1.54it/s]\n"
     ]
    }
   ],
   "source": [
    "pda.process_data_for_alt_models(shot_numbers, variant='seidl_2023', sampling_freq=300)\n",
    "\n",
    "pda.process_data_for_alt_models(shot_numbers, variant='seidl_2023', sampling_freq=150)\n",
    "\n",
    "pda.process_data_for_alt_models(shot_numbers, variant='seidl_2023', sampling_freq=30)"
   ]
  },
  {
   "cell_type": "code",
   "execution_count": 2,
   "metadata": {},
   "outputs": [
    {
     "name": "stderr",
     "output_type": "stream",
     "text": [
      "working on shot:19580: 100%|██████████| 34/34 [00:56<00:00,  1.67s/it]\n",
      "working on shot:19580: 100%|██████████| 34/34 [00:36<00:00,  1.09s/it]\n",
      "working on shot:19580: 100%|██████████| 34/34 [00:25<00:00,  1.33it/s]\n"
     ]
    }
   ],
   "source": [
    "pda.process_data_for_multiple_mirnov_coils(shot_numbers, variant='seidl_2023', sampling_freq=300)\n",
    "\n",
    "pda.process_data_for_multiple_mirnov_coils(shot_numbers, variant='seidl_2023', sampling_freq=150)\n",
    "\n",
    "pda.process_data_for_multiple_mirnov_coils(shot_numbers, variant='seidl_2023', sampling_freq=30)"
   ]
  }
 ],
 "metadata": {
  "kernelspec": {
   "display_name": "Python 3.9 [anaconda-2023.07]",
   "language": "python",
   "name": "python3.9-anaconda-2023.07"
  }
 },
 "nbformat": 4,
 "nbformat_minor": 2
}
