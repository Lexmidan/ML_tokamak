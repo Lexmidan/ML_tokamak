{
 "cells": [
  {
   "cell_type": "markdown",
   "metadata": {},
   "source": [
    "## Data proccessing for supplementary models"
   ]
  },
  {
   "cell_type": "code",
   "execution_count": 1,
   "metadata": {},
   "outputs": [],
   "source": [
    "import os\n",
    "import time \n",
    "import re\n",
    "from datetime import datetime\n",
    "\n",
    "os.chdir('/compass/Shared/Users/bogdanov/vyzkumny_ukol/')\n",
    "from pathlib import Path\n",
    "import matplotlib.pyplot as plt\n",
    "from cdb_extras import xarray_support as cdbxr   # načítání dat z databáze COMPASSu\n",
    "from pyCDB import client\n",
    "import pandas as pd\n",
    "import matplotlib.pyplot as plt\n",
    "import imgs_processing as imgs\n",
    "import numpy as np\n",
    "import xrscipy.signal as dsp\n",
    "from tqdm import tqdm\n",
    "cdb = client.CDBClient()\n",
    "\n",
    "import process_data_for_alt_models as pdalt\n",
    "\n",
    "path = Path('/compass/Shared/Users/bogdanov/vyzkumny_ukol')"
   ]
  },
  {
   "cell_type": "code",
   "execution_count": 3,
   "metadata": {},
   "outputs": [
    {
     "data": {
      "application/vnd.jupyter.widget-view+json": {
       "model_id": "ae6f1202197d4bc7b9b3c97171a865c3",
       "version_major": 2,
       "version_minor": 0
      },
      "text/plain": [
       "  0%|          | 0/1 [00:00<?, ?it/s]"
      ]
     },
     "metadata": {},
     "output_type": "display_data"
    },
    {
     "name": "stdout",
     "output_type": "stream",
     "text": [
      "working on shot: 17837\n"
     ]
    },
    {
     "name": "stderr",
     "output_type": "stream",
     "text": [
      "/compass/Shared/Common/IT/projects/user-libraries/python/cdb_extras/dev/cdb_extras/signal_plugins/core.py:76: UserWarning: cdb_extras.signal_plugins will be deprecated by cdb_extras.xarray_support and is not maintained anymore\n",
      "  warnings.warn('cdb_extras.signal_plugins will be deprecated'\n"
     ]
    }
   ],
   "source": [
    "#dirs where to save the csv files\n",
    "shot_numbers = [17837]\n",
    "variant = 'seidl_2023'\n",
    "directories = {'h_alpha':'data/h_alpha_signal', \n",
    "                'mc':'data/mirnov_coil_signal', \n",
    "                'divlp':'data/langmuir_probe_signal'}\n",
    "for shot in tqdm(shot_numbers):\n",
    "    print('working on shot:', shot)\n",
    "    # Load signals from CDB\n",
    "    h_alpha_signal = cdb.get_signal(f\"H_alpha/SPECTROMETRY_RAW:{shot}\")\n",
    "    mc_signal = cdb.get_signal(f\"Mirnov_coil_A_theta_13_RAW/MAGNETICS_RAW:{shot}\")\n",
    "    divlp_signal = cdb.get_signal(f\"DIVLPB01/STRATUS:{shot}\")\n",
    "    # Load labels from CDB\n",
    "    t_ELM_start = cdb.get_signal(f\"t_ELM_start/SYNTHETIC_DIAGNOSTICS:{shot}:{variant}\")\n",
    "    t_ELM_peak = cdb.get_signal(f\"t_ELM_peak/SYNTHETIC_DIAGNOSTICS:{shot}:{variant}\")\n",
    "    #Calculate t_elm_end from t_ELM_peak and t_ELM_start (it should be symetric to t_ELM_peak)\n",
    "    t_ELM_end = 2*t_ELM_peak - t_ELM_start\n",
    "    #t_ELM_end = cdb.get_signal(f\"t_ELM_end/SYNTHETIC_DIAGNOSTICS:{shot}:{variant}\")\n",
    "    t_H_mode_start = cdb.get_signal(f\"t_H_mode_start/SYNTHETIC_DIAGNOSTICS:{shot}:{variant}\")\n",
    "    t_H_mode_end = cdb.get_signal(f\"t_H_mode_end/SYNTHETIC_DIAGNOSTICS:{shot}:{variant}\")\n",
    "    #TODO:  To create a DataFrame with only one row, one needs to specify an index, \n",
    "    # so if plasma enters H-mode more than once during one shot index have to be passed. Thus crutch with try: except:\n",
    "    try:\n",
    "        len(t_ELM_start.data)\n",
    "    except:\n",
    "        t_ELM = pd.DataFrame({'start':t_ELM_start.data, 'end':t_ELM_end.data}, index=[0])\n",
    "    else:\n",
    "        t_ELM = pd.DataFrame({'start':t_ELM_start.data, 'end':t_ELM_end.data})\n",
    "    try:\n",
    "        len(t_H_mode_start.data)\n",
    "    except:\n",
    "        t_H_mode = pd.DataFrame({'start':t_H_mode_start.data, 'end':t_H_mode_end.data}, index=[0])\n",
    "    else:\n",
    "        t_H_mode = pd.DataFrame({'start':t_H_mode_start.data, 'end':t_H_mode_end.data})\n",
    "    for signal, signal_name in zip([h_alpha_signal, mc_signal, divlp_signal], ['h_alpha', 'mc', 'divlp']):\n",
    "        signal_df = pd.DataFrame({'time':signal.time_axis.data, signal_name:signal.data})\n",
    "        # Set time as index\n",
    "        signal_df = signal_df.set_index('time')\n",
    "        ### Downsample data\n",
    "        #First define desired frequency\n",
    "        desired_frequency = 300 #in kHz\n",
    "        time_resolution = 1/desired_frequency\n",
    "        # Find how many rows do we need to skip to get the desired frequency \n",
    "        #(raw data have different frequencies for different shots)\n",
    "        skip_rows = 0\n",
    "        while signal_df.index[skip_rows] - signal_df.index[0]  < time_resolution:\n",
    "            skip_rows += 1\n",
    "        # Downsample\n",
    "        signal_df = signal_df.iloc[::skip_rows]\n",
    "        # Remove data with no plasma\n",
    "        discharge_start, discharge_end = imgs.discharge_duration(shot, 4e4)\n",
    "        signal_df = signal_df[np.logical_and(signal_df.index>discharge_start, signal_df.index<discharge_end)]\n",
    "        # Create a column with mode labels. These are all L-mode by default.\n",
    "        signal_df['mode'] = 'L-mode'\n",
    "        for H_mode in t_H_mode.values:\n",
    "            signal_df.loc[H_mode[0]:H_mode[1], 'mode'] = 'H-mode'\n",
    "        for elm in t_ELM.values:\n",
    "            signal_df.loc[elm[0]:elm[1], 'mode'] = 'ELM'\n",
    "        # Save data\n",
    "        signal_df.to_csv(f'{directories[signal_name]}/shot_{shot}.csv')"
   ]
  },
  {
   "cell_type": "code",
   "execution_count": 18,
   "metadata": {},
   "outputs": [
    {
     "data": {
      "application/vnd.jupyter.widget-view+json": {
       "model_id": "a046d3252e1a416aaaa7a11707fddff0",
       "version_major": 2,
       "version_minor": 0
      },
      "text/plain": [
       "  0%|          | 0/1 [00:00<?, ?it/s]"
      ]
     },
     "metadata": {},
     "output_type": "display_data"
    },
    {
     "name": "stdout",
     "output_type": "stream",
     "text": [
      "working on shot: 17837\n"
     ]
    },
    {
     "name": "stderr",
     "output_type": "stream",
     "text": [
      "/compass/Shared/Common/IT/projects/user-libraries/python/cdb_extras/dev/cdb_extras/signal_plugins/core.py:76: UserWarning: cdb_extras.signal_plugins will be deprecated by cdb_extras.xarray_support and is not maintained anymore\n",
      "  warnings.warn('cdb_extras.signal_plugins will be deprecated'\n"
     ]
    }
   ],
   "source": [
    "\n",
    "pdalt.process_data_for_alt_models([17837], variant='seidl_2023')"
   ]
  },
  {
   "cell_type": "code",
   "execution_count": null,
   "metadata": {},
   "outputs": [],
   "source": [
    "shot_usage = pd.read_csv(f'{path}/data/shot_usage.csv')\n",
    "shot_numbers = shot_usage['shot']\n",
    "\n",
    "pdalt.process_data_for_multiple_mirnov_coils(shot_numbers, variant='seidl_2023')"
   ]
  },
  {
   "cell_type": "code",
   "execution_count": null,
   "metadata": {},
   "outputs": [],
   "source": []
  }
 ],
 "metadata": {
  "kernelspec": {
   "display_name": "Python 3.9 [anaconda-2023.07]",
   "language": "python",
   "name": "python3.9-anaconda-2023.07"
  }
 },
 "nbformat": 4,
 "nbformat_minor": 2
}
