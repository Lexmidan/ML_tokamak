{
 "cells": [
  {
   "cell_type": "markdown",
   "metadata": {},
   "source": [
    "<h3>Vytvoření y</h3>\n",
    "\n",
    "y = co má neuronka předpovídat. V našem případě začneme tím, zda byl v daném čase L-mod nebo H-mod.\n",
    "\n",
    "Je třeba:\n",
    "\n",
    "- načíst signály popisující začátek a konec H-módu v daném výboji: `t_H_mode_start` a `t_H_mode_end`.\n",
    "\n",
    "- z adresáře s obrazovými daty zjistit časy snímků kamery v daném výboji\n",
    "\n",
    "- pro každý čas zjistit, zda jde o L-mód nebo H-mód\n",
    "\n",
    "- uložit do csv (např ve formátu slupců [název souboru se snímkem z kamery, čas ve výboji, label zda L-mode/H-mode]) - použijte pandas"
   ]
  },
  {
   "cell_type": "markdown",
   "metadata": {},
   "source": [
    "Importing libraries"
   ]
  },
  {
   "cell_type": "code",
   "execution_count": 1,
   "metadata": {},
   "outputs": [],
   "source": [
    "import os\n",
    "os.chdir(\"/compass/Shared/Users/bogdanov/vyzkumny_ukol\")\n",
    "from cdb_extras import xarray_support as cdbxr   # načítání dat z databáze COMPASSu\n",
    "from pyCDB import client\n",
    "import numpy as np         # práce s numerickými poli\n",
    "import pandas as pd\n",
    "from pathlib import Path\n",
    "%matplotlib inline\n",
    "from tqdm.auto import tqdm\n",
    "\n",
    "#import module with functions from the tutorial\n",
    "import imgs_processing as img\n",
    "cdb = client.CDBClient()"
   ]
  },
  {
   "cell_type": "markdown",
   "metadata": {},
   "source": [
    "### Importing data"
   ]
  },
  {
   "cell_type": "code",
   "execution_count": 2,
   "metadata": {},
   "outputs": [],
   "source": [
    "shot = 16769 # 18057]\n",
    "out_path = Path('./imgs')\n",
    "ris1_data = img.load_RIS_data(shot, 1)\n",
    "ris2_data = img.load_RIS_data(shot, 2)"
   ]
  },
  {
   "cell_type": "markdown",
   "metadata": {},
   "source": [
    "### Saving the images with plasma on it"
   ]
  },
  {
   "cell_type": "code",
   "execution_count": 3,
   "metadata": {},
   "outputs": [
    {
     "name": "stdout",
     "output_type": "stream",
     "text": [
      "Demosaicing images\n"
     ]
    },
    {
     "data": {
      "application/vnd.jupyter.widget-view+json": {
       "model_id": "04821236db0e424c9e7dba9c246b6941",
       "version_major": 2,
       "version_minor": 0
      },
      "text/plain": [
       "Saving images:   0%|          | 0/2178 [00:00<?, ?it/s]"
      ]
     },
     "metadata": {},
     "output_type": "display_data"
    },
    {
     "name": "stdout",
     "output_type": "stream",
     "text": [
      "Demosaicing images\n"
     ]
    },
    {
     "data": {
      "application/vnd.jupyter.widget-view+json": {
       "model_id": "a0fd5ac83c5c48679e4d762955536d97",
       "version_major": 2,
       "version_minor": 0
      },
      "text/plain": [
       "Saving images:   0%|          | 0/2178 [00:00<?, ?it/s]"
      ]
     },
     "metadata": {},
     "output_type": "display_data"
    }
   ],
   "source": [
    "ris1_names = img.save_ris_images_to_folder(ris1_data, path=out_path, ris=1, shot=shot, use_discharge_duration=True, just_names=False)\n",
    "ris2_names = img.save_ris_images_to_folder(ris2_data, path=out_path, ris=2, shot=shot, use_discharge_duration=True, just_names=False)"
   ]
  },
  {
   "cell_type": "markdown",
   "metadata": {},
   "source": [
    "### Create a `pd.DataFrame` containing time, mode, and image path"
   ]
  },
  {
   "cell_type": "code",
   "execution_count": 4,
   "metadata": {},
   "outputs": [],
   "source": [
    "LorH = pd.DataFrame(data={'mode':np.full(len(ris1_data), 'L-mode')}, index=pd.Index(ris1_data.time, name='time'))\n",
    "#contains time and the state of the plasma (L-mode, H-mode, ELM)\n",
    "\n",
    "t_ELM_start = cdb.get_signal(f\"t_ELM_start/SYNTHETIC_DIAGNOSTICS:{shot}:bogdanov_2023\")\n",
    "t_ELM_end = cdb.get_signal(f\"t_ELM_end/SYNTHETIC_DIAGNOSTICS:{shot}:bogdanov_2023\")\n",
    "t_H_mode_start = cdb.get_signal(f\"t_H_mode_start/SYNTHETIC_DIAGNOSTICS:{shot}:bogdanov_2023\")\n",
    "t_H_mode_end = cdb.get_signal(f\"t_H_mode_end/SYNTHETIC_DIAGNOSTICS:{shot}:bogdanov_2023\")\n",
    "\n",
    "#TODO:  To create a DataFrame with only one row, you need to specify an index, \n",
    "# so if plasma enters H-mode more than once during one shot, then next row creates different shape\n",
    "\n",
    "try:\n",
    "    len(t_ELM_start.data)\n",
    "except:\n",
    "    t_ELM = pd.DataFrame({'start':t_ELM_start.data, 'end':t_ELM_end.data}, index=[0])\n",
    "else:\n",
    "    t_ELM = pd.DataFrame({'start':t_ELM_start.data, 'end':t_ELM_end.data})\n",
    "\n",
    "try:\n",
    "    len(t_H_mode_start.data)\n",
    "except:\n",
    "    t_H_mode = pd.DataFrame({'start':t_H_mode_start.data, 'end':t_H_mode_end.data}, index=[0])\n",
    "else:\n",
    "    t_H_mode = pd.DataFrame({'start':t_H_mode_start.data, 'end':t_H_mode_end.data})\n",
    "\n",
    "\n",
    "for H_mode in t_H_mode.values:\n",
    "    LorH.loc[H_mode[0]:H_mode[1]] = 'H-mode'\n",
    "\n",
    "for elm in t_ELM.values:\n",
    "    LorH.loc[elm[0]:elm[1]] = 'ELM'\n",
    "\n",
    "#Discarding pictures without plasma\n",
    "discharge_start, discharge_end = img.discharge_duration(shot)\n",
    "LorH = LorH[discharge_start : discharge_end]\n",
    "\n",
    "#Appending columns with paths of the RIS imgs\n",
    "LorH['filename'] = np.array(ris1_names)\n",
    "\n",
    "LorH.to_csv(f'/compass/Shared/Users/bogdanov/vyzkumny_ukol/LHmode-detection-shot{shot}.csv')"
   ]
  },
  {
   "cell_type": "markdown",
   "metadata": {},
   "source": [
    "## Process multiple shots"
   ]
  },
  {
   "cell_type": "code",
   "execution_count": 6,
   "metadata": {},
   "outputs": [
    {
     "name": "stdout",
     "output_type": "stream",
     "text": [
      "Working on shot  19083\n",
      "Demosaicing images\n"
     ]
    },
    {
     "data": {
      "application/vnd.jupyter.widget-view+json": {
       "model_id": "262ad0e47d3e403ab211fce85abe47fe",
       "version_major": 2,
       "version_minor": 0
      },
      "text/plain": [
       "Saving images:   0%|          | 0/1949 [00:00<?, ?it/s]"
      ]
     },
     "metadata": {},
     "output_type": "display_data"
    },
    {
     "name": "stdout",
     "output_type": "stream",
     "text": [
      "Demosaicing images\n"
     ]
    },
    {
     "data": {
      "application/vnd.jupyter.widget-view+json": {
       "model_id": "8bb83898c6e34935a9747a309b20c8af",
       "version_major": 2,
       "version_minor": 0
      },
      "text/plain": [
       "Saving images:   0%|          | 0/1949 [00:00<?, ?it/s]"
      ]
     },
     "metadata": {},
     "output_type": "display_data"
    },
    {
     "name": "stdout",
     "output_type": "stream",
     "text": [
      "Working on shot  19094\n",
      "Demosaicing images\n"
     ]
    },
    {
     "data": {
      "application/vnd.jupyter.widget-view+json": {
       "model_id": "0ebe7778b4c447958fd2c0e0396a9a60",
       "version_major": 2,
       "version_minor": 0
      },
      "text/plain": [
       "Saving images:   0%|          | 0/1949 [00:00<?, ?it/s]"
      ]
     },
     "metadata": {},
     "output_type": "display_data"
    },
    {
     "name": "stdout",
     "output_type": "stream",
     "text": [
      "Demosaicing images\n"
     ]
    },
    {
     "data": {
      "application/vnd.jupyter.widget-view+json": {
       "model_id": "66a8fc485d7c4d8b92d4b2edfb1b9054",
       "version_major": 2,
       "version_minor": 0
      },
      "text/plain": [
       "Saving images:   0%|          | 0/1949 [00:00<?, ?it/s]"
      ]
     },
     "metadata": {},
     "output_type": "display_data"
    },
    {
     "name": "stdout",
     "output_type": "stream",
     "text": [
      "Working on shot  19241\n",
      "Demosaicing images\n"
     ]
    },
    {
     "data": {
      "application/vnd.jupyter.widget-view+json": {
       "model_id": "62be156ea01d4b22b5502c6a0f4076f8",
       "version_major": 2,
       "version_minor": 0
      },
      "text/plain": [
       "Saving images:   0%|          | 0/1951 [00:00<?, ?it/s]"
      ]
     },
     "metadata": {},
     "output_type": "display_data"
    },
    {
     "name": "stdout",
     "output_type": "stream",
     "text": [
      "Demosaicing images\n"
     ]
    },
    {
     "data": {
      "application/vnd.jupyter.widget-view+json": {
       "model_id": "d45e9a113e07413e9709bce2c5906fd8",
       "version_major": 2,
       "version_minor": 0
      },
      "text/plain": [
       "Saving images:   0%|          | 0/1951 [00:00<?, ?it/s]"
      ]
     },
     "metadata": {},
     "output_type": "display_data"
    },
    {
     "name": "stdout",
     "output_type": "stream",
     "text": [
      "Working on shot  20009\n",
      "Demosaicing images\n"
     ]
    },
    {
     "data": {
      "application/vnd.jupyter.widget-view+json": {
       "model_id": "6c00604037f74a0898cd628b355e438d",
       "version_major": 2,
       "version_minor": 0
      },
      "text/plain": [
       "Saving images:   0%|          | 0/3398 [00:00<?, ?it/s]"
      ]
     },
     "metadata": {},
     "output_type": "display_data"
    },
    {
     "name": "stdout",
     "output_type": "stream",
     "text": [
      "Demosaicing images\n"
     ]
    },
    {
     "data": {
      "application/vnd.jupyter.widget-view+json": {
       "model_id": "0cfd1387ae45457987857acf71987160",
       "version_major": 2,
       "version_minor": 0
      },
      "text/plain": [
       "Saving images:   0%|          | 0/3398 [00:00<?, ?it/s]"
      ]
     },
     "metadata": {},
     "output_type": "display_data"
    }
   ],
   "source": [
    "out_path = Path('./imgs')\n",
    "for shot in [19083, 19094, 19241, 20009]:#, 20097, 20112, 20143, 20144, 20145, 20146, 20147]:\n",
    "    print('Working on shot ', shot)\n",
    "    out_path = Path('./imgs')\n",
    "    ris1_data = img.load_RIS_data(shot, 1)\n",
    "    ris2_data = img.load_RIS_data(shot, 2)\n",
    "    ris1_names = img.save_ris_images_to_folder(ris1_data, path=out_path, ris=1, shot=shot, use_discharge_duration=True, just_names=False)\n",
    "    ris2_names = img.save_ris_images_to_folder(ris2_data, path=out_path, ris=2, shot=shot, use_discharge_duration=True, just_names=False)\n",
    "    LorH = pd.DataFrame(data={'mode':np.full(len(ris1_data), 'L-mode')}, index=pd.Index(ris1_data.time, name='time'))\n",
    "    #contains time and the state of the plasma (L-mode, H-mode, ELM)\n",
    "\n",
    "    t_ELM_start = cdb.get_signal(f\"t_ELM_start/SYNTHETIC_DIAGNOSTICS:{shot}:seidl_2023\")\n",
    "    t_ELM_end = cdb.get_signal(f\"t_ELM_end/SYNTHETIC_DIAGNOSTICS:{shot}:seidl_2023\")\n",
    "    t_H_mode_start = cdb.get_signal(f\"t_H_mode_start/SYNTHETIC_DIAGNOSTICS:{shot}:seidl_2023\")\n",
    "    t_H_mode_end = cdb.get_signal(f\"t_H_mode_end/SYNTHETIC_DIAGNOSTICS:{shot}:seidl_2023\")\n",
    "\n",
    "    #TODO:  To create a DataFrame with only one row, one needs to specify an index, \n",
    "    # so if plasma enters H-mode more than once during one shot index have to be passed. Thus crutch with try: except:\n",
    "    try:\n",
    "        len(t_ELM_start.data)\n",
    "    except:\n",
    "        t_ELM = pd.DataFrame({'start':t_ELM_start.data, 'end':t_ELM_end.data}, index=[0])\n",
    "    else:\n",
    "        t_ELM = pd.DataFrame({'start':t_ELM_start.data, 'end':t_ELM_end.data})\n",
    "\n",
    "    try:\n",
    "        len(t_H_mode_start.data)\n",
    "    except:\n",
    "        t_H_mode = pd.DataFrame({'start':t_H_mode_start.data, 'end':t_H_mode_end.data}, index=[0])\n",
    "    else:\n",
    "        t_H_mode = pd.DataFrame({'start':t_H_mode_start.data, 'end':t_H_mode_end.data})\n",
    "\n",
    "\n",
    "    for H_mode in t_H_mode.values:\n",
    "        LorH.loc[H_mode[0]:H_mode[1]] = 'H-mode'\n",
    "\n",
    "    for elm in t_ELM.values:\n",
    "        LorH.loc[elm[0]:elm[1]] = 'ELM'\n",
    "\n",
    "    #Discarding pictures without plasma\n",
    "    discharge_start, discharge_end = img.discharge_duration(shot)\n",
    "    LorH = LorH[discharge_start : discharge_end]\n",
    "\n",
    "    #Appending columns with paths of the RIS imgs\n",
    "    LorH['filename'] = np.array(ris1_names)\n",
    "\n",
    "    LorH.to_csv(f'./data/LHmode-detection-shots/LHmode-detection-shot{shot}.csv')"
   ]
  },
  {
   "cell_type": "code",
   "execution_count": null,
   "metadata": {},
   "outputs": [],
   "source": []
  }
 ],
 "metadata": {
  "kernelspec": {
   "display_name": "Python 3.7 (default)",
   "language": "python",
   "name": "python3"
  }
 },
 "nbformat": 4,
 "nbformat_minor": 2
}
