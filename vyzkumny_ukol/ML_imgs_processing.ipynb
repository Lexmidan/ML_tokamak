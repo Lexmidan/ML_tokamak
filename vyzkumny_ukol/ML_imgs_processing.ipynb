{
 "cells": [
  {
   "cell_type": "markdown",
   "metadata": {},
   "source": [
    "<h3>Vytvoření y</h3>\n",
    "\n",
    "y = co má neuronka předpovídat. V našem případě začneme tím, zda byl v daném čase L-mod nebo H-mod.\n",
    "\n",
    "Je třeba:\n",
    "\n",
    "- načíst signály popisující začátek a konec H-módu v daném výboji: `t_H_mode_start` a `t_H_mode_end`.\n",
    "\n",
    "- z adresáře s obrazovými daty zjistit časy snímků kamery v daném výboji\n",
    "\n",
    "- pro každý čas zjistit, zda jde o L-mód nebo H-mód\n",
    "\n",
    "- uložit do csv (např ve formátu slupců [název souboru se snímkem z kamery, čas ve výboji, label zda L-mode/H-mode]) - použijte pandas"
   ]
  },
  {
   "cell_type": "markdown",
   "metadata": {},
   "source": [
    "Importing libraries"
   ]
  },
  {
   "cell_type": "code",
   "execution_count": 9,
   "metadata": {},
   "outputs": [],
   "source": [
    "import os\n",
    "os.chdir(\"/compass/Shared/Users/bogdanov/vyzkumny_ukol\")"
   ]
  },
  {
   "cell_type": "code",
   "execution_count": 10,
   "metadata": {},
   "outputs": [],
   "source": [
    "from cdb_extras import xarray_support as cdbxr   # načítání dat z databáze COMPASSu\n",
    "from pyCDB import client\n",
    "import numpy as np         # práce s numerickými poli\n",
    "import pandas as pd\n",
    "from pathlib import Path\n",
    "%matplotlib inline\n",
    "from tqdm.auto import tqdm\n",
    "\n",
    "\n",
    "#import module with functions from the tutorial\n",
    "import cdb_img_processing as img\n",
    "cdb = client.CDBClient()"
   ]
  },
  {
   "cell_type": "markdown",
   "metadata": {},
   "source": [
    "Importing data"
   ]
  },
  {
   "cell_type": "code",
   "execution_count": 11,
   "metadata": {},
   "outputs": [],
   "source": [
    "shot = 16773 # 18057]\n",
    "t_ELM_start = cdb.get_signal(f\"t_ELM_start/SYNTHETIC_DIAGNOSTICS:{shot}:bogdanov_2023\")\n",
    "t_ELM_end = cdb.get_signal(f\"t_ELM_end/SYNTHETIC_DIAGNOSTICS:{shot}:bogdanov_2023\")\n",
    "t_H_mode_start = cdb.get_signal(f\"t_H_mode_start/SYNTHETIC_DIAGNOSTICS:{shot}:bogdanov_2023\")\n",
    "t_H_mode_end = cdb.get_signal(f\"t_H_mode_end/SYNTHETIC_DIAGNOSTICS:{shot}:bogdanov_2023\")"
   ]
  },
  {
   "cell_type": "code",
   "execution_count": 12,
   "metadata": {},
   "outputs": [],
   "source": [
    "ris1_data = img.load_RIS_data(shot, 1)\n",
    "ris2_data = img.load_RIS_data(shot, 2)"
   ]
  },
  {
   "cell_type": "markdown",
   "metadata": {},
   "source": [
    "Saving the images with plasma on it ()"
   ]
  },
  {
   "cell_type": "code",
   "execution_count": 13,
   "metadata": {},
   "outputs": [
    {
     "name": "stdout",
     "output_type": "stream",
     "text": [
      "Demosaicing images\n"
     ]
    },
    {
     "data": {
      "application/vnd.jupyter.widget-view+json": {
       "model_id": "7b21ef774b2f43e3948b9ae415d7c0f8",
       "version_major": 2,
       "version_minor": 0
      },
      "text/plain": [
       "Saving images:   0%|          | 0/2180 [00:00<?, ?it/s]"
      ]
     },
     "metadata": {},
     "output_type": "display_data"
    }
   ],
   "source": [
    "out_path = Path('./imgs')\n",
    "ris1_names = img.save_ris_images_to_folder(ris1_data, path=out_path, ris=1, shot=shot, use_discharge_duration=True, just_names=False)\n",
    "ris2_names = img.save_ris_images_to_folder(ris1_data, path=out_path, ris=2, shot=shot, use_discharge_duration=True, just_names=False)"
   ]
  },
  {
   "cell_type": "markdown",
   "metadata": {},
   "source": [
    "Create a `pd.DataFrame` containing time, mode, and image path"
   ]
  },
  {
   "cell_type": "code",
   "execution_count": 14,
   "metadata": {},
   "outputs": [],
   "source": [
    "LorH = pd.DataFrame(data={'mode':np.full(len(ris1_data), 'L-mode')}, index=pd.Index(ris1_data.time, name='time'))#contains time and the state of the plasma (L-mode, H-mode, ELM)"
   ]
  },
  {
   "cell_type": "code",
   "execution_count": 15,
   "metadata": {},
   "outputs": [],
   "source": [
    "#TODO:  To create a DataFrame with only one row, you need to specify an index, so if during the shot plasma was in H-mode more than once then next row creates different shape\n",
    "t_H_mode = pd.DataFrame({'start':t_H_mode_start.data, 'end':t_H_mode_end.data}, index=[0])\n",
    "t_ELM = pd.DataFrame({'start':t_ELM_start.data, 'end':t_ELM_end.data})\n",
    "\n",
    "\n",
    "for H_mode in t_H_mode.values:\n",
    "    LorH.loc[H_mode[0]:H_mode[1]] = 'H-mode'\n",
    "\n",
    "for elm in t_ELM.values:\n",
    "    LorH.loc[elm[0]:elm[1]] = 'ELM'\n",
    "\n",
    "#Discarding pictures without plasma\n",
    "discharge_start, discharge_end = img.discharge_duration(shot)\n",
    "LorH = LorH[discharge_start : discharge_end]\n",
    "\n",
    "#Appending columns with paths of the RIS imgs\n",
    "LorH['filename'] = np.array(ris1_names)\n",
    "\n",
    "\n",
    "\n",
    "LorH.to_csv(f'/compass/Shared/Users/bogdanov/vyzkumny_ukol/LHmode-detection-shot{shot}.csv')"
   ]
  },
  {
   "cell_type": "code",
   "execution_count": 16,
   "metadata": {},
   "outputs": [
    {
     "data": {
      "text/html": [
       "<div>\n",
       "<style scoped>\n",
       "    .dataframe tbody tr th:only-of-type {\n",
       "        vertical-align: middle;\n",
       "    }\n",
       "\n",
       "    .dataframe tbody tr th {\n",
       "        vertical-align: top;\n",
       "    }\n",
       "\n",
       "    .dataframe thead th {\n",
       "        text-align: right;\n",
       "    }\n",
       "</style>\n",
       "<table border=\"1\" class=\"dataframe\">\n",
       "  <thead>\n",
       "    <tr style=\"text-align: right;\">\n",
       "      <th></th>\n",
       "      <th>mode</th>\n",
       "      <th>filename</th>\n",
       "    </tr>\n",
       "    <tr>\n",
       "      <th>time</th>\n",
       "      <th></th>\n",
       "      <th></th>\n",
       "    </tr>\n",
       "  </thead>\n",
       "  <tbody>\n",
       "    <tr>\n",
       "      <th>960.4</th>\n",
       "      <td>L-mode</td>\n",
       "      <td>imgs/RIS1_16773_t=960.4000000000001.png</td>\n",
       "    </tr>\n",
       "    <tr>\n",
       "      <th>960.6</th>\n",
       "      <td>L-mode</td>\n",
       "      <td>imgs/RIS1_16773_t=960.6000000000001.png</td>\n",
       "    </tr>\n",
       "    <tr>\n",
       "      <th>960.8</th>\n",
       "      <td>L-mode</td>\n",
       "      <td>imgs/RIS1_16773_t=960.8000000000001.png</td>\n",
       "    </tr>\n",
       "    <tr>\n",
       "      <th>961.0</th>\n",
       "      <td>L-mode</td>\n",
       "      <td>imgs/RIS1_16773_t=961.0000000000001.png</td>\n",
       "    </tr>\n",
       "    <tr>\n",
       "      <th>961.2</th>\n",
       "      <td>L-mode</td>\n",
       "      <td>imgs/RIS1_16773_t=961.2000000000002.png</td>\n",
       "    </tr>\n",
       "  </tbody>\n",
       "</table>\n",
       "</div>"
      ],
      "text/plain": [
       "         mode                                 filename\n",
       "time                                                  \n",
       "960.4  L-mode  imgs/RIS1_16773_t=960.4000000000001.png\n",
       "960.6  L-mode  imgs/RIS1_16773_t=960.6000000000001.png\n",
       "960.8  L-mode  imgs/RIS1_16773_t=960.8000000000001.png\n",
       "961.0  L-mode  imgs/RIS1_16773_t=961.0000000000001.png\n",
       "961.2  L-mode  imgs/RIS1_16773_t=961.2000000000002.png"
      ]
     },
     "execution_count": 16,
     "metadata": {},
     "output_type": "execute_result"
    }
   ],
   "source": [
    "LorH.head()"
   ]
  }
 ],
 "metadata": {
  "kernelspec": {
   "display_name": "Python 3.9 [anaconda-2023.07]",
   "language": "python",
   "name": "python3.9-anaconda-2023.07"
  },
  "language_info": {
   "codemirror_mode": {
    "name": "ipython",
    "version": 3
   },
   "file_extension": ".py",
   "mimetype": "text/x-python",
   "name": "python",
   "nbconvert_exporter": "python",
   "pygments_lexer": "ipython3",
   "version": "3.9.17"
  }
 },
 "nbformat": 4,
 "nbformat_minor": 2
}
