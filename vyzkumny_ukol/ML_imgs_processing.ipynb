{
 "cells": [
  {
   "cell_type": "markdown",
   "metadata": {},
   "source": [
    "<h3>Vytvoření y</h3>\n",
    "\n",
    "y = co má neuronka předpovídat. V našem případě začneme tím, zda byl v daném čase L-mod nebo H-mod.\n",
    "\n",
    "Je třeba:\n",
    "\n",
    "- načíst signály popisující začátek a konec H-módu v daném výboji: `t_H_mode_start` a `t_H_mode_end`.\n",
    "\n",
    "- z adresáře s obrazovými daty zjistit časy snímků kamery v daném výboji\n",
    "\n",
    "- pro každý čas zjistit, zda jde o L-mód nebo H-mód\n",
    "\n",
    "- uložit do csv (např ve formátu slupců [název souboru se snímkem z kamery, čas ve výboji, label zda L-mode/H-mode]) - použijte pandas"
   ]
  },
  {
   "cell_type": "markdown",
   "metadata": {},
   "source": [
    "Importing libraries"
   ]
  },
  {
   "cell_type": "code",
   "execution_count": 1,
   "metadata": {},
   "outputs": [],
   "source": [
    "import os\n",
    "os.chdir(\"/compass/Shared/Users/bogdanov/vyzkumny_ukol\")"
   ]
  },
  {
   "cell_type": "code",
   "execution_count": 2,
   "metadata": {},
   "outputs": [],
   "source": [
    "from cdb_extras import xarray_support as cdbxr   # načítání dat z databáze COMPASSu\n",
    "from pyCDB import client\n",
    "import numpy as np         # práce s numerickými poli\n",
    "import pandas as pd\n",
    "from pathlib import Path\n",
    "%matplotlib inline\n",
    "from tqdm.auto import tqdm\n",
    "\n",
    "\n",
    "#import module with functions from the tutorial\n",
    "import cdb_img_processing as img\n",
    "cdb = client.CDBClient()"
   ]
  },
  {
   "cell_type": "markdown",
   "metadata": {},
   "source": [
    "Importing data"
   ]
  },
  {
   "cell_type": "code",
   "execution_count": 3,
   "metadata": {},
   "outputs": [],
   "source": [
    "shot = 18057\n",
    "t_ELM_start = cdb.get_signal(f\"t_ELM_start/SYNTHETIC_DIAGNOSTICS:{shot}:bogdanov_2023\")\n",
    "t_ELM_end = cdb.get_signal(f\"t_ELM_end/SYNTHETIC_DIAGNOSTICS:{shot}:bogdanov_2023\")\n",
    "t_H_mode_start = cdb.get_signal(f\"t_H_mode_start/SYNTHETIC_DIAGNOSTICS:{shot}:bogdanov_2023\")\n",
    "t_H_mode_end = cdb.get_signal(f\"t_H_mode_end/SYNTHETIC_DIAGNOSTICS:{shot}:bogdanov_2023\")"
   ]
  },
  {
   "cell_type": "code",
   "execution_count": 4,
   "metadata": {},
   "outputs": [],
   "source": [
    "ris1_data = img.load_RIS_data(shot, 1) #[:34]<==test REMove after completion the rest of the task) \n",
    "ris2_data = img.load_RIS_data(shot, 2)\n",
    "\n",
    "ris1_imgs = img.flip_image(img.demosaic(ris1_data))    #[:34]<==test REMove after completion the rest of the task) \n",
    "ris2_imgs = img.flip_image(img.demosaic(ris2_data))"
   ]
  },
  {
   "cell_type": "code",
   "execution_count": 5,
   "metadata": {},
   "outputs": [],
   "source": [
    "#TODO:  To create a DataFrame with only one row, you need to specify an index, so if during the shot plasma was in H-mode more than once then next row creates different shape\n",
    "t_H_mode = pd.DataFrame({'start':t_H_mode_start.data, 'end':t_H_mode_end.data}, index=[0])\n",
    "t_ELM = pd.DataFrame({'start':t_ELM_start.data, 'end':t_ELM_end.data})"
   ]
  },
  {
   "cell_type": "code",
   "execution_count": 6,
   "metadata": {},
   "outputs": [],
   "source": [
    "LorH = pd.DataFrame(data={'mode':np.full(len(ris1_imgs), 'L-mode')})#, index=pd.Index(ris1_imgs.time, name='time'))#contains time and the state of the plasma (L-mode, H-mode, ELM)"
   ]
  },
  {
   "cell_type": "code",
   "execution_count": 7,
   "metadata": {},
   "outputs": [],
   "source": [
    "#Nevim jak bych to udelal bez for cyklu:\n",
    "for elm in t_ELM.values:\n",
    "    LorH.loc[elm[0]:elm[1]] = 'ELM'\n",
    "\n",
    "for H_mode in t_H_mode.values:\n",
    "    LorH.loc[H_mode[0]:H_mode[1]] = 'H-mode'"
   ]
  },
  {
   "cell_type": "markdown",
   "metadata": {},
   "source": [
    "Saving the images"
   ]
  },
  {
   "cell_type": "code",
   "execution_count": 8,
   "metadata": {},
   "outputs": [
    {
     "data": {
      "application/vnd.jupyter.widget-view+json": {
       "model_id": "8e9066b6d8674ca683e7423f35a9f2fd",
       "version_major": 2,
       "version_minor": 0
      },
      "text/plain": [
       "  0%|          | 0/2100 [00:00<?, ?it/s]"
      ]
     },
     "metadata": {},
     "output_type": "display_data"
    },
    {
     "data": {
      "application/vnd.jupyter.widget-view+json": {
       "model_id": "54cbdd5004e340c5b64933b9b450ae48",
       "version_major": 2,
       "version_minor": 0
      },
      "text/plain": [
       "  0%|          | 0/2100 [00:00<?, ?it/s]"
      ]
     },
     "metadata": {},
     "output_type": "display_data"
    }
   ],
   "source": [
    "out_path = Path('./imgs')\n",
    "\n",
    "ris1_names = pd.DataFrame(data={'filename':img.save_ris_images_to_folder(ris1_data, path=out_path, ris=1, shot=shot)}) #I conciously decided not to cut the time in the filename at any decimal\n",
    "ris2_names = pd.DataFrame(data={'filename':img.save_ris_images_to_folder(ris2_data, path=out_path, ris=2, shot=shot)})"
   ]
  },
  {
   "cell_type": "code",
   "execution_count": 9,
   "metadata": {},
   "outputs": [
    {
     "data": {
      "text/html": [
       "<div>\n",
       "<style scoped>\n",
       "    .dataframe tbody tr th:only-of-type {\n",
       "        vertical-align: middle;\n",
       "    }\n",
       "\n",
       "    .dataframe tbody tr th {\n",
       "        vertical-align: top;\n",
       "    }\n",
       "\n",
       "    .dataframe thead th {\n",
       "        text-align: right;\n",
       "    }\n",
       "</style>\n",
       "<table border=\"1\" class=\"dataframe\">\n",
       "  <thead>\n",
       "    <tr style=\"text-align: right;\">\n",
       "      <th></th>\n",
       "      <th>mode</th>\n",
       "      <th>filename</th>\n",
       "    </tr>\n",
       "    <tr>\n",
       "      <th>time</th>\n",
       "      <th></th>\n",
       "      <th></th>\n",
       "    </tr>\n",
       "  </thead>\n",
       "  <tbody>\n",
       "    <tr>\n",
       "      <th>950.0</th>\n",
       "      <td>L-mode</td>\n",
       "      <td>imgs/RIS1_18057_t=950.0000000000001.png</td>\n",
       "    </tr>\n",
       "    <tr>\n",
       "      <th>950.2</th>\n",
       "      <td>L-mode</td>\n",
       "      <td>imgs/RIS1_18057_t=950.2000000000002.png</td>\n",
       "    </tr>\n",
       "    <tr>\n",
       "      <th>950.4</th>\n",
       "      <td>L-mode</td>\n",
       "      <td>imgs/RIS1_18057_t=950.4000000000001.png</td>\n",
       "    </tr>\n",
       "    <tr>\n",
       "      <th>950.6</th>\n",
       "      <td>L-mode</td>\n",
       "      <td>imgs/RIS1_18057_t=950.6000000000001.png</td>\n",
       "    </tr>\n",
       "    <tr>\n",
       "      <th>950.8</th>\n",
       "      <td>L-mode</td>\n",
       "      <td>imgs/RIS1_18057_t=950.8000000000001.png</td>\n",
       "    </tr>\n",
       "    <tr>\n",
       "      <th>...</th>\n",
       "      <td>...</td>\n",
       "      <td>...</td>\n",
       "    </tr>\n",
       "    <tr>\n",
       "      <th>1369.0</th>\n",
       "      <td>L-mode</td>\n",
       "      <td>imgs/RIS1_18057_t=1369.0.png</td>\n",
       "    </tr>\n",
       "    <tr>\n",
       "      <th>1369.2</th>\n",
       "      <td>L-mode</td>\n",
       "      <td>imgs/RIS1_18057_t=1369.2000000000003.png</td>\n",
       "    </tr>\n",
       "    <tr>\n",
       "      <th>1369.4</th>\n",
       "      <td>L-mode</td>\n",
       "      <td>imgs/RIS1_18057_t=1369.4.png</td>\n",
       "    </tr>\n",
       "    <tr>\n",
       "      <th>1369.6</th>\n",
       "      <td>L-mode</td>\n",
       "      <td>imgs/RIS1_18057_t=1369.6000000000001.png</td>\n",
       "    </tr>\n",
       "    <tr>\n",
       "      <th>1369.8</th>\n",
       "      <td>L-mode</td>\n",
       "      <td>imgs/RIS1_18057_t=1369.8000000000002.png</td>\n",
       "    </tr>\n",
       "  </tbody>\n",
       "</table>\n",
       "<p>2100 rows × 2 columns</p>\n",
       "</div>"
      ],
      "text/plain": [
       "          mode                                  filename\n",
       "time                                                    \n",
       "950.0   L-mode   imgs/RIS1_18057_t=950.0000000000001.png\n",
       "950.2   L-mode   imgs/RIS1_18057_t=950.2000000000002.png\n",
       "950.4   L-mode   imgs/RIS1_18057_t=950.4000000000001.png\n",
       "950.6   L-mode   imgs/RIS1_18057_t=950.6000000000001.png\n",
       "950.8   L-mode   imgs/RIS1_18057_t=950.8000000000001.png\n",
       "...        ...                                       ...\n",
       "1369.0  L-mode              imgs/RIS1_18057_t=1369.0.png\n",
       "1369.2  L-mode  imgs/RIS1_18057_t=1369.2000000000003.png\n",
       "1369.4  L-mode              imgs/RIS1_18057_t=1369.4.png\n",
       "1369.6  L-mode  imgs/RIS1_18057_t=1369.6000000000001.png\n",
       "1369.8  L-mode  imgs/RIS1_18057_t=1369.8000000000002.png\n",
       "\n",
       "[2100 rows x 2 columns]"
      ]
     },
     "execution_count": 9,
     "metadata": {},
     "output_type": "execute_result"
    }
   ],
   "source": [
    "lr = LorH.copy()\n",
    "lr = pd.concat([LorH, ris1_names], axis=1, ignore_index=False, join='outer') #I concatenate only img names only from RIS1, since they differ only in 1 char from RIS2\n",
    "lr=lr.set_index(pd.Index(ris1_imgs.time, name='time')) \n",
    "\n",
    "lr"
   ]
  },
  {
   "cell_type": "code",
   "execution_count": 10,
   "metadata": {},
   "outputs": [],
   "source": [
    "lr.to_csv(f'/compass/Shared/Users/bogdanov/vyzkumny_ukol/LHmode-detection-shot{shot}.csv')"
   ]
  }
 ],
 "metadata": {
  "kernelspec": {
   "display_name": "Python 3.9 [anaconda-2023.07]",
   "language": "python",
   "name": "python3.9-anaconda-2023.07"
  }
 },
 "nbformat": 4,
 "nbformat_minor": 2
}
