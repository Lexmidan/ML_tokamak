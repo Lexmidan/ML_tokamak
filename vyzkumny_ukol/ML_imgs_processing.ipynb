{
 "cells": [
  {
   "cell_type": "markdown",
   "metadata": {},
   "source": [
    "<h3>Vytvoření y</h3>\n",
    "\n",
    "y = co má neuronka předpovídat. V našem případě začneme tím, zda byl v daném čase L-mod nebo H-mod.\n",
    "\n",
    "Je třeba:\n",
    "\n",
    "- načíst signály popisující začátek a konec H-módu v daném výboji: `t_H_mode_start` a `t_H_mode_end`.\n",
    "\n",
    "- z adresáře s obrazovými daty zjistit časy snímků kamery v daném výboji\n",
    "\n",
    "- pro každý čas zjistit, zda jde o L-mód nebo H-mód\n",
    "\n",
    "- uložit do csv (např ve formátu slupců [název souboru se snímkem z kamery, čas ve výboji, label zda L-mode/H-mode]) - použijte pandas"
   ]
  },
  {
   "cell_type": "markdown",
   "metadata": {},
   "source": [
    "Importing libraries"
   ]
  },
  {
   "cell_type": "code",
   "execution_count": 1,
   "metadata": {},
   "outputs": [],
   "source": [
    "import os\n",
    "os.chdir(\"/compass/Shared/Users/bogdanov/vyzkumny_ukol\")\n",
    "from cdb_extras import xarray_support as cdbxr   # načítání dat z databáze COMPASSu\n",
    "from pyCDB import client\n",
    "import numpy as np         # práce s numerickými poli\n",
    "import pandas as pd\n",
    "from pathlib import Path\n",
    "%matplotlib inline\n",
    "from tqdm.auto import tqdm\n",
    "\n",
    "#import module with functions from the tutorial\n",
    "import cdb_img_processing as img\n",
    "cdb = client.CDBClient()"
   ]
  },
  {
   "cell_type": "code",
   "execution_count": 8,
   "metadata": {},
   "outputs": [],
   "source": [
    "\n",
    "cdb = client.CDBClient()\n",
    "signal = cdb.get_signal(\"I_plasma_Rogowski_coil_RAW/MAGNETICS_RAW:16773\")"
   ]
  },
  {
   "cell_type": "markdown",
   "metadata": {},
   "source": [
    "### Importing data"
   ]
  },
  {
   "cell_type": "code",
   "execution_count": 2,
   "metadata": {},
   "outputs": [
    {
     "ename": "NameError",
     "evalue": "name 'Path' is not defined",
     "output_type": "error",
     "traceback": [
      "\u001b[0;31m---------------------------------------------------------------------------\u001b[0m",
      "\u001b[0;31mNameError\u001b[0m                                 Traceback (most recent call last)",
      "Cell \u001b[0;32mIn[2], line 2\u001b[0m\n\u001b[1;32m      1\u001b[0m shot \u001b[38;5;241m=\u001b[39m \u001b[38;5;241m16769\u001b[39m \u001b[38;5;66;03m# 18057]\u001b[39;00m\n\u001b[0;32m----> 2\u001b[0m out_path \u001b[38;5;241m=\u001b[39m \u001b[43mPath\u001b[49m(\u001b[38;5;124m'\u001b[39m\u001b[38;5;124m./imgs\u001b[39m\u001b[38;5;124m'\u001b[39m)\n\u001b[1;32m      3\u001b[0m ris1_data \u001b[38;5;241m=\u001b[39m img\u001b[38;5;241m.\u001b[39mload_RIS_data(shot, \u001b[38;5;241m1\u001b[39m)\n\u001b[1;32m      4\u001b[0m ris2_data \u001b[38;5;241m=\u001b[39m img\u001b[38;5;241m.\u001b[39mload_RIS_data(shot, \u001b[38;5;241m2\u001b[39m)\n",
      "\u001b[0;31mNameError\u001b[0m: name 'Path' is not defined"
     ]
    }
   ],
   "source": [
    "shot = 16769 # 18057]\n",
    "out_path = Path('./imgs')\n",
    "ris1_data = img.load_RIS_data(shot, 1)\n",
    "ris2_data = img.load_RIS_data(shot, 2)"
   ]
  },
  {
   "cell_type": "markdown",
   "metadata": {},
   "source": [
    "### Saving the images with plasma on it"
   ]
  },
  {
   "cell_type": "code",
   "execution_count": 25,
   "metadata": {},
   "outputs": [
    {
     "name": "stdout",
     "output_type": "stream",
     "text": [
      "Demosaicing images\n"
     ]
    },
    {
     "data": {
      "application/vnd.jupyter.widget-view+json": {
       "model_id": "2a18d6b61d2e4a34bace40b188fd7e97",
       "version_major": 2,
       "version_minor": 0
      },
      "text/plain": [
       "Saving images:   0%|          | 0/2050 [00:00<?, ?it/s]"
      ]
     },
     "metadata": {},
     "output_type": "display_data"
    },
    {
     "name": "stdout",
     "output_type": "stream",
     "text": [
      "Demosaicing images\n"
     ]
    },
    {
     "data": {
      "application/vnd.jupyter.widget-view+json": {
       "model_id": "4c484797127e4fceb8118180ca197f4e",
       "version_major": 2,
       "version_minor": 0
      },
      "text/plain": [
       "Saving images:   0%|          | 0/2050 [00:00<?, ?it/s]"
      ]
     },
     "metadata": {},
     "output_type": "display_data"
    }
   ],
   "source": [
    "ris1_names = img.save_ris_images_to_folder(ris1_data, path=out_path, ris=1, shot=shot, use_discharge_duration=True, just_names=False)\n",
    "ris2_names = img.save_ris_images_to_folder(ris2_data, path=out_path, ris=2, shot=shot, use_discharge_duration=True, just_names=False)"
   ]
  },
  {
   "cell_type": "markdown",
   "metadata": {},
   "source": [
    "### Create a `pd.DataFrame` containing time, mode, and image path"
   ]
  },
  {
   "cell_type": "code",
   "execution_count": null,
   "metadata": {},
   "outputs": [],
   "source": [
    "LorH = pd.DataFrame(data={'mode':np.full(len(ris1_data), 'L-mode')}, index=pd.Index(ris1_data.time, name='time'))\n",
    "#contains time and the state of the plasma (L-mode, H-mode, ELM)\n",
    "\n",
    "t_ELM_start = cdb.get_signal(f\"t_ELM_start/SYNTHETIC_DIAGNOSTICS:{shot}:bogdanov_2023\")\n",
    "t_ELM_end = cdb.get_signal(f\"t_ELM_end/SYNTHETIC_DIAGNOSTICS:{shot}:bogdanov_2023\")\n",
    "t_H_mode_start = cdb.get_signal(f\"t_H_mode_start/SYNTHETIC_DIAGNOSTICS:{shot}:bogdanov_2023\")\n",
    "t_H_mode_end = cdb.get_signal(f\"t_H_mode_end/SYNTHETIC_DIAGNOSTICS:{shot}:bogdanov_2023\")\n",
    "\n",
    "#TODO:  To create a DataFrame with only one row, you need to specify an index, \n",
    "# so if plasma enters H-mode more than once during one shot, then next row creates different shape\n",
    "\n",
    "try:\n",
    "    len(t_ELM_start.data)\n",
    "except:\n",
    "    t_ELM = pd.DataFrame({'start':t_ELM_start.data, 'end':t_ELM_end.data}, index=[0])\n",
    "else:\n",
    "    t_ELM = pd.DataFrame({'start':t_ELM_start.data, 'end':t_ELM_end.data})\n",
    "\n",
    "try:\n",
    "    len(t_H_mode_start.data)\n",
    "except:\n",
    "    t_H_mode = pd.DataFrame({'start':t_H_mode_start.data, 'end':t_H_mode_end.data}, index=[0])\n",
    "else:\n",
    "    t_H_mode = pd.DataFrame({'start':t_H_mode_start.data, 'end':t_H_mode_end.data})\n",
    "\n",
    "\n",
    "for H_mode in t_H_mode.values:\n",
    "    LorH.loc[H_mode[0]:H_mode[1]] = 'H-mode'\n",
    "\n",
    "for elm in t_ELM.values:\n",
    "    LorH.loc[elm[0]:elm[1]] = 'ELM'\n",
    "\n",
    "#Discarding pictures without plasma\n",
    "discharge_start, discharge_end = img.discharge_duration(shot)\n",
    "LorH = LorH[discharge_start : discharge_end]\n",
    "\n",
    "#Appending columns with paths of the RIS imgs\n",
    "LorH['filename'] = np.array(ris1_names)\n",
    "\n",
    "LorH.to_csv(f'/compass/Shared/Users/bogdanov/vyzkumny_ukol/LHmode-detection-shot{shot}.csv')"
   ]
  },
  {
   "cell_type": "code",
   "execution_count": 2,
   "metadata": {},
   "outputs": [
    {
     "name": "stdout",
     "output_type": "stream",
     "text": [
      "Working on shot  19240\n",
      "Demosaicing images\n"
     ]
    },
    {
     "data": {
      "application/vnd.jupyter.widget-view+json": {
       "model_id": "724887ba74c84927bae7b191f82b3387",
       "version_major": 2,
       "version_minor": 0
      },
      "text/plain": [
       "Saving images:   0%|          | 0/1951 [00:00<?, ?it/s]"
      ]
     },
     "metadata": {},
     "output_type": "display_data"
    },
    {
     "name": "stdout",
     "output_type": "stream",
     "text": [
      "Demosaicing images\n"
     ]
    },
    {
     "data": {
      "application/vnd.jupyter.widget-view+json": {
       "model_id": "05d9f59458a94b58969d2a860724fbe3",
       "version_major": 2,
       "version_minor": 0
      },
      "text/plain": [
       "Saving images:   0%|          | 0/1951 [00:00<?, ?it/s]"
      ]
     },
     "metadata": {},
     "output_type": "display_data"
    },
    {
     "name": "stdout",
     "output_type": "stream",
     "text": [
      "Working on shot  16769\n",
      "Demosaicing images\n"
     ]
    },
    {
     "data": {
      "application/vnd.jupyter.widget-view+json": {
       "model_id": "037ed3ad95ec46cb84727f9b057666b0",
       "version_major": 2,
       "version_minor": 0
      },
      "text/plain": [
       "Saving images:   0%|          | 0/2178 [00:00<?, ?it/s]"
      ]
     },
     "metadata": {},
     "output_type": "display_data"
    },
    {
     "name": "stdout",
     "output_type": "stream",
     "text": [
      "Demosaicing images\n"
     ]
    },
    {
     "data": {
      "application/vnd.jupyter.widget-view+json": {
       "model_id": "7b7b1351a70143fb9d3c64163e032329",
       "version_major": 2,
       "version_minor": 0
      },
      "text/plain": [
       "Saving images:   0%|          | 0/2178 [00:00<?, ?it/s]"
      ]
     },
     "metadata": {},
     "output_type": "display_data"
    }
   ],
   "source": [
    "for shot in [19240, 16769]:\n",
    "    print('Working on shot ', shot)\n",
    "    out_path = Path('./imgs')\n",
    "    ris1_data = img.load_RIS_data(shot, 1)\n",
    "    ris2_data = img.load_RIS_data(shot, 2)\n",
    "    ris1_names = img.save_ris_images_to_folder(ris1_data, path=out_path, ris=1, shot=shot, use_discharge_duration=True, just_names=True)\n",
    "    ris2_names = img.save_ris_images_to_folder(ris2_data, path=out_path, ris=2, shot=shot, use_discharge_duration=True, just_names=True)\n",
    "    LorH = pd.DataFrame(data={'mode':np.full(len(ris1_data), 'L-mode')}, index=pd.Index(ris1_data.time, name='time'))\n",
    "    #contains time and the state of the plasma (L-mode, H-mode, ELM)\n",
    "\n",
    "    t_ELM_start = cdb.get_signal(f\"t_ELM_start/SYNTHETIC_DIAGNOSTICS:{shot}:bogdanov_2023\")\n",
    "    t_ELM_end = cdb.get_signal(f\"t_ELM_end/SYNTHETIC_DIAGNOSTICS:{shot}:bogdanov_2023\")\n",
    "    t_H_mode_start = cdb.get_signal(f\"t_H_mode_start/SYNTHETIC_DIAGNOSTICS:{shot}:bogdanov_2023\")\n",
    "    t_H_mode_end = cdb.get_signal(f\"t_H_mode_end/SYNTHETIC_DIAGNOSTICS:{shot}:bogdanov_2023\")\n",
    "\n",
    "    #TODO:  To create a DataFrame with only one row, one needs to specify an index, \n",
    "    # so if plasma enters H-mode more than once during one shot index have to be passed. Thus crutch with try: except:\n",
    "    try:\n",
    "        len(t_ELM_start.data)\n",
    "    except:\n",
    "        t_ELM = pd.DataFrame({'start':t_ELM_start.data, 'end':t_ELM_end.data}, index=[0])\n",
    "    else:\n",
    "        t_ELM = pd.DataFrame({'start':t_ELM_start.data, 'end':t_ELM_end.data})\n",
    "\n",
    "    try:\n",
    "        len(t_H_mode_start.data)\n",
    "    except:\n",
    "        t_H_mode = pd.DataFrame({'start':t_H_mode_start.data, 'end':t_H_mode_end.data}, index=[0])\n",
    "    else:\n",
    "        t_H_mode = pd.DataFrame({'start':t_H_mode_start.data, 'end':t_H_mode_end.data})\n",
    "\n",
    "\n",
    "    for H_mode in t_H_mode.values:\n",
    "        LorH.loc[H_mode[0]:H_mode[1]] = 'H-mode'\n",
    "\n",
    "    for elm in t_ELM.values:\n",
    "        LorH.loc[elm[0]:elm[1]] = 'ELM'\n",
    "\n",
    "    #Discarding pictures without plasma\n",
    "    discharge_start, discharge_end = img.discharge_duration(shot)\n",
    "    LorH = LorH[discharge_start : discharge_end]\n",
    "\n",
    "    #Appending columns with paths of the RIS imgs\n",
    "    LorH['filename'] = np.array(ris1_names)\n",
    "\n",
    "    LorH.to_csv(f'./LHmode-detection-shot{shot}.csv')"
   ]
  }
 ],
 "metadata": {
  "kernelspec": {
   "display_name": "Python 3.7 (default)",
   "language": "python",
   "name": "python3"
  }
 },
 "nbformat": 4,
 "nbformat_minor": 2
}
