{
 "cells": [
  {
   "cell_type": "markdown",
   "metadata": {},
   "source": [
    "<h3>Vytvoření y</h3>\n",
    "\n",
    "y = co má neuronka předpovídat. V našem případě začneme tím, zda byl v daném čase L-mod nebo H-mod.\n",
    "\n",
    "Je třeba:\n",
    "\n",
    "- načíst signály popisující začátek a konec H-módu v daném výboji: `t_H_mode_start` a `t_H_mode_end`.\n",
    "\n",
    "- z adresáře s obrazovými daty zjistit časy snímků kamery v daném výboji\n",
    "\n",
    "- pro každý čas zjistit, zda jde o L-mód nebo H-mód\n",
    "\n",
    "- uložit do csv (např ve formátu slupců [název souboru se snímkem z kamery, čas ve výboji, label zda L-mode/H-mode]) - použijte pandas"
   ]
  },
  {
   "cell_type": "markdown",
   "metadata": {},
   "source": [
    "Importing libraries"
   ]
  },
  {
   "cell_type": "code",
   "execution_count": 1,
   "metadata": {},
   "outputs": [],
   "source": [
    "import os\n",
    "os.chdir(\"/compass/Shared/Users/bogdanov/vyzkumny_ukol\")"
   ]
  },
  {
   "cell_type": "code",
   "execution_count": 2,
   "metadata": {},
   "outputs": [],
   "source": [
    "from cdb_extras import xarray_support as cdbxr   # načítání dat z databáze COMPASSu\n",
    "from pyCDB import client\n",
    "import numpy as np         # práce s numerickými poli\n",
    "import pandas as pd\n",
    "from pathlib import Path\n",
    "%matplotlib inline\n",
    "from tqdm.auto import tqdm\n",
    "\n",
    "\n",
    "#import module with functions from the tutorial\n",
    "import cdb_img_processing as img\n",
    "cdb = client.CDBClient()"
   ]
  },
  {
   "cell_type": "markdown",
   "metadata": {},
   "source": [
    "Importing data"
   ]
  },
  {
   "cell_type": "code",
   "execution_count": 3,
   "metadata": {},
   "outputs": [],
   "source": [
    "shot = 16769 # 16769, 16773, 18057]\n",
    "t_ELM_start = cdb.get_signal(f\"t_ELM_start/SYNTHETIC_DIAGNOSTICS:{shot}:bogdanov_2023\")\n",
    "t_ELM_end = cdb.get_signal(f\"t_ELM_end/SYNTHETIC_DIAGNOSTICS:{shot}:bogdanov_2023\")\n",
    "t_H_mode_start = cdb.get_signal(f\"t_H_mode_start/SYNTHETIC_DIAGNOSTICS:{shot}:bogdanov_2023\")\n",
    "t_H_mode_end = cdb.get_signal(f\"t_H_mode_end/SYNTHETIC_DIAGNOSTICS:{shot}:bogdanov_2023\")"
   ]
  },
  {
   "cell_type": "code",
   "execution_count": 4,
   "metadata": {},
   "outputs": [],
   "source": [
    "ris1_data = img.load_RIS_data(shot, 1) #[:34]<==test REMove after completion the rest of the task) \n",
    "ris2_data = img.load_RIS_data(shot, 2)\n",
    "\n",
    "ris1_imgs = img.flip_image(img.demosaic(ris1_data))    #[:34]<==test REMove after completion the rest of the task) \n",
    "ris2_imgs = img.flip_image(img.demosaic(ris2_data))"
   ]
  },
  {
   "cell_type": "code",
   "execution_count": 5,
   "metadata": {},
   "outputs": [],
   "source": [
    "#TODO:  To create a DataFrame with only one row, you need to specify an index, so if during the shot plasma was in H-mode more than once then next row creates different shape\n",
    "t_H_mode = pd.DataFrame({'start':t_H_mode_start.data, 'end':t_H_mode_end.data}, index=[0])\n",
    "t_ELM = pd.DataFrame({'start':t_ELM_start.data, 'end':t_ELM_end.data})"
   ]
  },
  {
   "cell_type": "code",
   "execution_count": 6,
   "metadata": {},
   "outputs": [],
   "source": [
    "LorH = pd.DataFrame(data={'mode':np.full(len(ris1_imgs), 'L-mode')})#, index=pd.Index(ris1_imgs.time, name='time'))#contains time and the state of the plasma (L-mode, H-mode, ELM)"
   ]
  },
  {
   "cell_type": "code",
   "execution_count": 7,
   "metadata": {},
   "outputs": [],
   "source": [
    "#Nevim jak bych to udelal bez for cyklu:\n",
    "for H_mode in t_H_mode.values:\n",
    "    LorH.loc[H_mode[0]:H_mode[1]] = 'H-mode'\n",
    "\n",
    "for elm in t_ELM.values:\n",
    "    LorH.loc[elm[0]:elm[1]] = 'ELM'\n",
    "\n"
   ]
  },
  {
   "cell_type": "code",
   "execution_count": 8,
   "metadata": {},
   "outputs": [
    {
     "data": {
      "text/html": [
       "<div>\n",
       "<style scoped>\n",
       "    .dataframe tbody tr th:only-of-type {\n",
       "        vertical-align: middle;\n",
       "    }\n",
       "\n",
       "    .dataframe tbody tr th {\n",
       "        vertical-align: top;\n",
       "    }\n",
       "\n",
       "    .dataframe thead th {\n",
       "        text-align: right;\n",
       "    }\n",
       "</style>\n",
       "<table border=\"1\" class=\"dataframe\">\n",
       "  <thead>\n",
       "    <tr style=\"text-align: right;\">\n",
       "      <th></th>\n",
       "      <th>mode</th>\n",
       "    </tr>\n",
       "  </thead>\n",
       "  <tbody>\n",
       "    <tr>\n",
       "      <th>1120</th>\n",
       "      <td>ELM</td>\n",
       "    </tr>\n",
       "    <tr>\n",
       "      <th>1124</th>\n",
       "      <td>ELM</td>\n",
       "    </tr>\n",
       "    <tr>\n",
       "      <th>1127</th>\n",
       "      <td>ELM</td>\n",
       "    </tr>\n",
       "    <tr>\n",
       "      <th>1129</th>\n",
       "      <td>ELM</td>\n",
       "    </tr>\n",
       "    <tr>\n",
       "      <th>1130</th>\n",
       "      <td>ELM</td>\n",
       "    </tr>\n",
       "    <tr>\n",
       "      <th>1132</th>\n",
       "      <td>ELM</td>\n",
       "    </tr>\n",
       "    <tr>\n",
       "      <th>1135</th>\n",
       "      <td>ELM</td>\n",
       "    </tr>\n",
       "    <tr>\n",
       "      <th>1137</th>\n",
       "      <td>ELM</td>\n",
       "    </tr>\n",
       "    <tr>\n",
       "      <th>1140</th>\n",
       "      <td>ELM</td>\n",
       "    </tr>\n",
       "    <tr>\n",
       "      <th>1142</th>\n",
       "      <td>ELM</td>\n",
       "    </tr>\n",
       "    <tr>\n",
       "      <th>1143</th>\n",
       "      <td>ELM</td>\n",
       "    </tr>\n",
       "    <tr>\n",
       "      <th>1144</th>\n",
       "      <td>ELM</td>\n",
       "    </tr>\n",
       "    <tr>\n",
       "      <th>1145</th>\n",
       "      <td>ELM</td>\n",
       "    </tr>\n",
       "    <tr>\n",
       "      <th>1147</th>\n",
       "      <td>ELM</td>\n",
       "    </tr>\n",
       "    <tr>\n",
       "      <th>1149</th>\n",
       "      <td>ELM</td>\n",
       "    </tr>\n",
       "    <tr>\n",
       "      <th>1151</th>\n",
       "      <td>ELM</td>\n",
       "    </tr>\n",
       "    <tr>\n",
       "      <th>1152</th>\n",
       "      <td>ELM</td>\n",
       "    </tr>\n",
       "    <tr>\n",
       "      <th>1154</th>\n",
       "      <td>ELM</td>\n",
       "    </tr>\n",
       "    <tr>\n",
       "      <th>1155</th>\n",
       "      <td>ELM</td>\n",
       "    </tr>\n",
       "    <tr>\n",
       "      <th>1157</th>\n",
       "      <td>ELM</td>\n",
       "    </tr>\n",
       "    <tr>\n",
       "      <th>1158</th>\n",
       "      <td>ELM</td>\n",
       "    </tr>\n",
       "    <tr>\n",
       "      <th>1159</th>\n",
       "      <td>ELM</td>\n",
       "    </tr>\n",
       "    <tr>\n",
       "      <th>1161</th>\n",
       "      <td>ELM</td>\n",
       "    </tr>\n",
       "    <tr>\n",
       "      <th>1162</th>\n",
       "      <td>ELM</td>\n",
       "    </tr>\n",
       "    <tr>\n",
       "      <th>1163</th>\n",
       "      <td>ELM</td>\n",
       "    </tr>\n",
       "    <tr>\n",
       "      <th>1164</th>\n",
       "      <td>ELM</td>\n",
       "    </tr>\n",
       "    <tr>\n",
       "      <th>1166</th>\n",
       "      <td>ELM</td>\n",
       "    </tr>\n",
       "    <tr>\n",
       "      <th>1167</th>\n",
       "      <td>ELM</td>\n",
       "    </tr>\n",
       "    <tr>\n",
       "      <th>1168</th>\n",
       "      <td>ELM</td>\n",
       "    </tr>\n",
       "    <tr>\n",
       "      <th>1169</th>\n",
       "      <td>ELM</td>\n",
       "    </tr>\n",
       "  </tbody>\n",
       "</table>\n",
       "</div>"
      ],
      "text/plain": [
       "     mode\n",
       "1120  ELM\n",
       "1124  ELM\n",
       "1127  ELM\n",
       "1129  ELM\n",
       "1130  ELM\n",
       "1132  ELM\n",
       "1135  ELM\n",
       "1137  ELM\n",
       "1140  ELM\n",
       "1142  ELM\n",
       "1143  ELM\n",
       "1144  ELM\n",
       "1145  ELM\n",
       "1147  ELM\n",
       "1149  ELM\n",
       "1151  ELM\n",
       "1152  ELM\n",
       "1154  ELM\n",
       "1155  ELM\n",
       "1157  ELM\n",
       "1158  ELM\n",
       "1159  ELM\n",
       "1161  ELM\n",
       "1162  ELM\n",
       "1163  ELM\n",
       "1164  ELM\n",
       "1166  ELM\n",
       "1167  ELM\n",
       "1168  ELM\n",
       "1169  ELM"
      ]
     },
     "execution_count": 8,
     "metadata": {},
     "output_type": "execute_result"
    }
   ],
   "source": [
    "LorH[np.logical_and(LorH['mode']!='L-mode', LorH['mode']!='H-mode')]"
   ]
  },
  {
   "cell_type": "markdown",
   "metadata": {},
   "source": [
    "Saving the images"
   ]
  },
  {
   "cell_type": "code",
   "execution_count": 9,
   "metadata": {},
   "outputs": [
    {
     "data": {
      "application/vnd.jupyter.widget-view+json": {
       "model_id": "049d61e3f33846b68445806faa5c6da3",
       "version_major": 2,
       "version_minor": 0
      },
      "text/plain": [
       "  0%|          | 0/2232 [00:00<?, ?it/s]"
      ]
     },
     "metadata": {},
     "output_type": "display_data"
    },
    {
     "data": {
      "application/vnd.jupyter.widget-view+json": {
       "model_id": "ef9929997aa64be2ba0108a631876273",
       "version_major": 2,
       "version_minor": 0
      },
      "text/plain": [
       "  0%|          | 0/2232 [00:00<?, ?it/s]"
      ]
     },
     "metadata": {},
     "output_type": "display_data"
    }
   ],
   "source": [
    "out_path = Path('./imgs')\n",
    "\n",
    "ris1_names = pd.DataFrame(data={'filename':img.save_ris_images_to_folder(ris1_data, path=out_path, ris=1, shot=shot)}) #I conciously decided not to cut the time in the filename at any decimal\n",
    "ris2_names = pd.DataFrame(data={'filename':img.save_ris_images_to_folder(ris2_data, path=out_path, ris=2, shot=shot)})"
   ]
  },
  {
   "cell_type": "code",
   "execution_count": null,
   "metadata": {},
   "outputs": [
    {
     "data": {
      "text/html": [
       "<div>\n",
       "<style scoped>\n",
       "    .dataframe tbody tr th:only-of-type {\n",
       "        vertical-align: middle;\n",
       "    }\n",
       "\n",
       "    .dataframe tbody tr th {\n",
       "        vertical-align: top;\n",
       "    }\n",
       "\n",
       "    .dataframe thead th {\n",
       "        text-align: right;\n",
       "    }\n",
       "</style>\n",
       "<table border=\"1\" class=\"dataframe\">\n",
       "  <thead>\n",
       "    <tr style=\"text-align: right;\">\n",
       "      <th></th>\n",
       "      <th>mode</th>\n",
       "      <th>filename</th>\n",
       "    </tr>\n",
       "    <tr>\n",
       "      <th>time</th>\n",
       "      <th></th>\n",
       "      <th></th>\n",
       "    </tr>\n",
       "  </thead>\n",
       "  <tbody>\n",
       "    <tr>\n",
       "      <th>950.0</th>\n",
       "      <td>L-mode</td>\n",
       "      <td>imgs/RIS1_16534_t=950.0000000000001.png</td>\n",
       "    </tr>\n",
       "    <tr>\n",
       "      <th>950.2</th>\n",
       "      <td>L-mode</td>\n",
       "      <td>imgs/RIS1_16534_t=950.2000000000002.png</td>\n",
       "    </tr>\n",
       "    <tr>\n",
       "      <th>950.4</th>\n",
       "      <td>L-mode</td>\n",
       "      <td>imgs/RIS1_16534_t=950.4000000000001.png</td>\n",
       "    </tr>\n",
       "    <tr>\n",
       "      <th>950.6</th>\n",
       "      <td>L-mode</td>\n",
       "      <td>imgs/RIS1_16534_t=950.6000000000001.png</td>\n",
       "    </tr>\n",
       "    <tr>\n",
       "      <th>950.8</th>\n",
       "      <td>L-mode</td>\n",
       "      <td>imgs/RIS1_16534_t=950.8000000000001.png</td>\n",
       "    </tr>\n",
       "    <tr>\n",
       "      <th>...</th>\n",
       "      <td>...</td>\n",
       "      <td>...</td>\n",
       "    </tr>\n",
       "    <tr>\n",
       "      <th>1395.4</th>\n",
       "      <td>L-mode</td>\n",
       "      <td>imgs/RIS1_16534_t=1395.4.png</td>\n",
       "    </tr>\n",
       "    <tr>\n",
       "      <th>1395.6</th>\n",
       "      <td>L-mode</td>\n",
       "      <td>imgs/RIS1_16534_t=1395.6000000000001.png</td>\n",
       "    </tr>\n",
       "    <tr>\n",
       "      <th>1395.8</th>\n",
       "      <td>L-mode</td>\n",
       "      <td>imgs/RIS1_16534_t=1395.8000000000002.png</td>\n",
       "    </tr>\n",
       "    <tr>\n",
       "      <th>1396.0</th>\n",
       "      <td>L-mode</td>\n",
       "      <td>imgs/RIS1_16534_t=1396.0.png</td>\n",
       "    </tr>\n",
       "    <tr>\n",
       "      <th>1396.2</th>\n",
       "      <td>L-mode</td>\n",
       "      <td>imgs/RIS1_16534_t=1396.2000000000003.png</td>\n",
       "    </tr>\n",
       "  </tbody>\n",
       "</table>\n",
       "<p>2232 rows × 2 columns</p>\n",
       "</div>"
      ],
      "text/plain": [
       "          mode                                  filename\n",
       "time                                                    \n",
       "950.0   L-mode   imgs/RIS1_16534_t=950.0000000000001.png\n",
       "950.2   L-mode   imgs/RIS1_16534_t=950.2000000000002.png\n",
       "950.4   L-mode   imgs/RIS1_16534_t=950.4000000000001.png\n",
       "950.6   L-mode   imgs/RIS1_16534_t=950.6000000000001.png\n",
       "950.8   L-mode   imgs/RIS1_16534_t=950.8000000000001.png\n",
       "...        ...                                       ...\n",
       "1395.4  L-mode              imgs/RIS1_16534_t=1395.4.png\n",
       "1395.6  L-mode  imgs/RIS1_16534_t=1395.6000000000001.png\n",
       "1395.8  L-mode  imgs/RIS1_16534_t=1395.8000000000002.png\n",
       "1396.0  L-mode              imgs/RIS1_16534_t=1396.0.png\n",
       "1396.2  L-mode  imgs/RIS1_16534_t=1396.2000000000003.png\n",
       "\n",
       "[2232 rows x 2 columns]"
      ]
     },
     "execution_count": 10,
     "metadata": {},
     "output_type": "execute_result"
    }
   ],
   "source": [
    "lr = LorH.copy()\n",
    "lr = pd.concat([LorH, ris1_names], axis=1, ignore_index=False, join='outer') #I concatenate only img names only from RIS1, since they differ only in 1 char from RIS2\n",
    "lr=lr.set_index(pd.Index(ris1_imgs.time, name='time')) \n",
    "\n",
    "lr"
   ]
  },
  {
   "cell_type": "code",
   "execution_count": null,
   "metadata": {},
   "outputs": [],
   "source": [
    "lr.to_csv(f'/compass/Shared/Users/bogdanov/vyzkumny_ukol/LHmode-detection-shot{shot}.csv')"
   ]
  },
  {
   "cell_type": "code",
   "execution_count": null,
   "metadata": {},
   "outputs": [],
   "source": []
  },
  {
   "cell_type": "code",
   "execution_count": null,
   "metadata": {},
   "outputs": [],
   "source": []
  }
 ],
 "metadata": {
  "kernelspec": {
   "display_name": "Python 3.9 [anaconda-2023.07]",
   "language": "python",
   "name": "python3.9-anaconda-2023.07"
  },
  "language_info": {
   "codemirror_mode": {
    "name": "ipython",
    "version": 3
   },
   "file_extension": ".py",
   "mimetype": "text/x-python",
   "name": "python",
   "nbconvert_exporter": "python",
   "pygments_lexer": "ipython3",
   "version": "3.9.17"
  }
 },
 "nbformat": 4,
 "nbformat_minor": 2
}
