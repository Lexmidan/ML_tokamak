{
 "cells": [
  {
   "cell_type": "markdown",
   "metadata": {},
   "source": [
    "# Model testing"
   ]
  },
  {
   "cell_type": "code",
   "execution_count": 1,
   "metadata": {},
   "outputs": [
    {
     "name": "stderr",
     "output_type": "stream",
     "text": [
      "Seed set to 42\n"
     ]
    },
    {
     "name": "stdout",
     "output_type": "stream",
     "text": [
      "Device: cuda:0\n"
     ]
    }
   ],
   "source": [
    "import os\n",
    "from pathlib import Path\n",
    "import matplotlib.pyplot as plt\n",
    "import confinement_mode_classifier as cmc\n",
    "from datetime import datetime\n",
    "import time \n",
    "import torchvision\n",
    "import torch\n",
    "from torch.optim import lr_scheduler\n",
    "import numpy as np\n",
    "from tqdm.notebook import tqdm\n",
    "import torch.nn as nn\n",
    "%matplotlib widget\n",
    "from torch.utils.tensorboard import SummaryWriter\n",
    "\n",
    "from PIL import Image\n",
    "from torchmetrics.classification import MulticlassConfusionMatrix, F1Score, MulticlassPrecision, MulticlassRecall, MulticlassROC"
   ]
  },
  {
   "cell_type": "code",
   "execution_count": 2,
   "metadata": {},
   "outputs": [],
   "source": [
    "path = Path(os.getcwd())\n",
    "device = torch.device(\"cuda:0\") if torch.cuda.is_available() else torch.device(\"cpu\")\n",
    "\n",
    "\n",
    "batch_size = 32\n",
    "shots = [16769, 18130, 18057]\n",
    "shots_for_testing = shots\n",
    "\n",
    "\n",
    "shot_df, test_df, _, _ = cmc.load_and_split_dataframes(path,shots, shots_for_testing, [])\n",
    "\n",
    "\n",
    "test_dataloader = cmc.get_dloader(test_df, path=path, batch_size=batch_size, shuffle=False, balance_data=False)"
   ]
  },
  {
   "cell_type": "code",
   "execution_count": 3,
   "metadata": {},
   "outputs": [],
   "source": [
    "pretrained_model = torchvision.models.resnet18(weights='IMAGENET1K_V1', )\n",
    "# Parameters of newly constructed modules have requires_grad=True by default\n",
    "num_ftrs = pretrained_model.fc.in_features\n",
    "pretrained_model.fc = nn.Linear(num_ftrs, 3) #3 classes: L-mode, H-mode, ELM\n",
    "pretrained_model = pretrained_model.to(device)"
   ]
  },
  {
   "cell_type": "code",
   "execution_count": 4,
   "metadata": {},
   "outputs": [
    {
     "data": {
      "text/plain": [
       "<All keys matched successfully>"
      ]
     },
     "execution_count": 4,
     "metadata": {},
     "output_type": "execute_result"
    }
   ],
   "source": [
    "\n",
    "pretrained_model.load_state_dict(torch.load(f'{path}/runs/14-12-2023, 13-18-26 Compairing frozen and unfrozen models/model_fully_trained.pt'))"
   ]
  },
  {
   "cell_type": "code",
   "execution_count": 5,
   "metadata": {},
   "outputs": [
    {
     "data": {
      "text/plain": [
       "ResNet(\n",
       "  (conv1): Conv2d(3, 64, kernel_size=(7, 7), stride=(2, 2), padding=(3, 3), bias=False)\n",
       "  (bn1): BatchNorm2d(64, eps=1e-05, momentum=0.1, affine=True, track_running_stats=True)\n",
       "  (relu): ReLU(inplace=True)\n",
       "  (maxpool): MaxPool2d(kernel_size=3, stride=2, padding=1, dilation=1, ceil_mode=False)\n",
       "  (layer1): Sequential(\n",
       "    (0): BasicBlock(\n",
       "      (conv1): Conv2d(64, 64, kernel_size=(3, 3), stride=(1, 1), padding=(1, 1), bias=False)\n",
       "      (bn1): BatchNorm2d(64, eps=1e-05, momentum=0.1, affine=True, track_running_stats=True)\n",
       "      (relu): ReLU(inplace=True)\n",
       "      (conv2): Conv2d(64, 64, kernel_size=(3, 3), stride=(1, 1), padding=(1, 1), bias=False)\n",
       "      (bn2): BatchNorm2d(64, eps=1e-05, momentum=0.1, affine=True, track_running_stats=True)\n",
       "    )\n",
       "    (1): BasicBlock(\n",
       "      (conv1): Conv2d(64, 64, kernel_size=(3, 3), stride=(1, 1), padding=(1, 1), bias=False)\n",
       "      (bn1): BatchNorm2d(64, eps=1e-05, momentum=0.1, affine=True, track_running_stats=True)\n",
       "      (relu): ReLU(inplace=True)\n",
       "      (conv2): Conv2d(64, 64, kernel_size=(3, 3), stride=(1, 1), padding=(1, 1), bias=False)\n",
       "      (bn2): BatchNorm2d(64, eps=1e-05, momentum=0.1, affine=True, track_running_stats=True)\n",
       "    )\n",
       "  )\n",
       "  (layer2): Sequential(\n",
       "    (0): BasicBlock(\n",
       "      (conv1): Conv2d(64, 128, kernel_size=(3, 3), stride=(2, 2), padding=(1, 1), bias=False)\n",
       "      (bn1): BatchNorm2d(128, eps=1e-05, momentum=0.1, affine=True, track_running_stats=True)\n",
       "      (relu): ReLU(inplace=True)\n",
       "      (conv2): Conv2d(128, 128, kernel_size=(3, 3), stride=(1, 1), padding=(1, 1), bias=False)\n",
       "      (bn2): BatchNorm2d(128, eps=1e-05, momentum=0.1, affine=True, track_running_stats=True)\n",
       "      (downsample): Sequential(\n",
       "        (0): Conv2d(64, 128, kernel_size=(1, 1), stride=(2, 2), bias=False)\n",
       "        (1): BatchNorm2d(128, eps=1e-05, momentum=0.1, affine=True, track_running_stats=True)\n",
       "      )\n",
       "    )\n",
       "    (1): BasicBlock(\n",
       "      (conv1): Conv2d(128, 128, kernel_size=(3, 3), stride=(1, 1), padding=(1, 1), bias=False)\n",
       "      (bn1): BatchNorm2d(128, eps=1e-05, momentum=0.1, affine=True, track_running_stats=True)\n",
       "      (relu): ReLU(inplace=True)\n",
       "      (conv2): Conv2d(128, 128, kernel_size=(3, 3), stride=(1, 1), padding=(1, 1), bias=False)\n",
       "      (bn2): BatchNorm2d(128, eps=1e-05, momentum=0.1, affine=True, track_running_stats=True)\n",
       "    )\n",
       "  )\n",
       "  (layer3): Sequential(\n",
       "    (0): BasicBlock(\n",
       "      (conv1): Conv2d(128, 256, kernel_size=(3, 3), stride=(2, 2), padding=(1, 1), bias=False)\n",
       "      (bn1): BatchNorm2d(256, eps=1e-05, momentum=0.1, affine=True, track_running_stats=True)\n",
       "      (relu): ReLU(inplace=True)\n",
       "      (conv2): Conv2d(256, 256, kernel_size=(3, 3), stride=(1, 1), padding=(1, 1), bias=False)\n",
       "      (bn2): BatchNorm2d(256, eps=1e-05, momentum=0.1, affine=True, track_running_stats=True)\n",
       "      (downsample): Sequential(\n",
       "        (0): Conv2d(128, 256, kernel_size=(1, 1), stride=(2, 2), bias=False)\n",
       "        (1): BatchNorm2d(256, eps=1e-05, momentum=0.1, affine=True, track_running_stats=True)\n",
       "      )\n",
       "    )\n",
       "    (1): BasicBlock(\n",
       "      (conv1): Conv2d(256, 256, kernel_size=(3, 3), stride=(1, 1), padding=(1, 1), bias=False)\n",
       "      (bn1): BatchNorm2d(256, eps=1e-05, momentum=0.1, affine=True, track_running_stats=True)\n",
       "      (relu): ReLU(inplace=True)\n",
       "      (conv2): Conv2d(256, 256, kernel_size=(3, 3), stride=(1, 1), padding=(1, 1), bias=False)\n",
       "      (bn2): BatchNorm2d(256, eps=1e-05, momentum=0.1, affine=True, track_running_stats=True)\n",
       "    )\n",
       "  )\n",
       "  (layer4): Sequential(\n",
       "    (0): BasicBlock(\n",
       "      (conv1): Conv2d(256, 512, kernel_size=(3, 3), stride=(2, 2), padding=(1, 1), bias=False)\n",
       "      (bn1): BatchNorm2d(512, eps=1e-05, momentum=0.1, affine=True, track_running_stats=True)\n",
       "      (relu): ReLU(inplace=True)\n",
       "      (conv2): Conv2d(512, 512, kernel_size=(3, 3), stride=(1, 1), padding=(1, 1), bias=False)\n",
       "      (bn2): BatchNorm2d(512, eps=1e-05, momentum=0.1, affine=True, track_running_stats=True)\n",
       "      (downsample): Sequential(\n",
       "        (0): Conv2d(256, 512, kernel_size=(1, 1), stride=(2, 2), bias=False)\n",
       "        (1): BatchNorm2d(512, eps=1e-05, momentum=0.1, affine=True, track_running_stats=True)\n",
       "      )\n",
       "    )\n",
       "    (1): BasicBlock(\n",
       "      (conv1): Conv2d(512, 512, kernel_size=(3, 3), stride=(1, 1), padding=(1, 1), bias=False)\n",
       "      (bn1): BatchNorm2d(512, eps=1e-05, momentum=0.1, affine=True, track_running_stats=True)\n",
       "      (relu): ReLU(inplace=True)\n",
       "      (conv2): Conv2d(512, 512, kernel_size=(3, 3), stride=(1, 1), padding=(1, 1), bias=False)\n",
       "      (bn2): BatchNorm2d(512, eps=1e-05, momentum=0.1, affine=True, track_running_stats=True)\n",
       "    )\n",
       "  )\n",
       "  (avgpool): AdaptiveAvgPool2d(output_size=(1, 1))\n",
       "  (fc): Linear(in_features=512, out_features=3, bias=True)\n",
       ")"
      ]
     },
     "execution_count": 5,
     "metadata": {},
     "output_type": "execute_result"
    }
   ],
   "source": [
    "pretrained_model.eval()\n",
    "pretrained_model.to(device)"
   ]
  },
  {
   "cell_type": "code",
   "execution_count": 6,
   "metadata": {},
   "outputs": [
    {
     "data": {
      "application/vnd.jupyter.widget-view+json": {
       "model_id": "2b5493c1b90243aa99a4e22ce5722bef",
       "version_major": 2,
       "version_minor": 0
      },
      "image/png": "[encoded data removed]",
      "text/html": [
       "\n",
       "            <div style=\"display: inline-block;\">\n",
       "                <div class=\"jupyter-widgets widget-label\" style=\"text-align: center;\">\n",
       "                    Figure\n",
       "                </div>\n",
       "                <img src='data:image/png;base64,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' width=640.0/>\n",
       "            </div>\n",
       "        "
      ],
      "text/plain": [
       "Canvas(toolbar=Toolbar(toolitems=[('Home', 'Reset original view', 'home', 'home'), ('Back', 'Back to previous …"
      ]
     },
     "metadata": {},
     "output_type": "display_data"
    }
   ],
   "source": [
    "\n",
    "predictions_df_dtest, fig_confusion_matrix_dtest, f1_dtest, precision_dtest, recall_dtest, accuracy_dtest = cmc.test_model(\n",
    "        pretrained_model, test_dataloader)\n"
   ]
  },
  {
   "cell_type": "code",
   "execution_count": 12,
   "metadata": {},
   "outputs": [
    {
     "data": {
      "application/vnd.jupyter.widget-view+json": {
       "model_id": "cd28e9fc1135472b9208de44bbb36926",
       "version_major": 2,
       "version_minor": 0
      },
      "text/plain": [
       "  0%|          | 0/3 [00:00<?, ?it/s]"
      ]
     },
     "metadata": {},
     "output_type": "display_data"
    }
   ],
   "source": [
    "\n",
    "\n",
    "for shot in tqdm(shots):\n",
    "    pred_for_shot = predictions_df_dtest[predictions_df_dtest['shot']==shot]\n",
    "    softmax_out = torch.nn.functional.softmax(torch.tensor(pred_for_shot[['L_logit','H_logit','ELM_logit']].values), dim=1)\n",
    "\n",
    "    preds_tensor = torch.tensor(pred_for_shot['prediction'].values.astype(float))\n",
    "    labels_tensor = torch.tensor(pred_for_shot['label'].values.astype(int))\n",
    "\n",
    "    confusion_matrix_metric = MulticlassConfusionMatrix(num_classes=3)\n",
    "    confusion_matrix_metric.update(preds_tensor, labels_tensor)\n",
    "    conf_matrix_fig, conf_matrix_ax = confusion_matrix_metric.plot()\n",
    "    mcroc = MulticlassROC(num_classes=3, thresholds=64)\n",
    "    mcroc.update(torch.tensor(pred_for_shot[['L_logit', 'H_logit', 'ELM_logit']].values.astype(float)), labels_tensor)\n",
    "\n",
    "    #ROC metric\n",
    "    roc_fig, roc_ax = mcroc.plot(score=True)\n",
    "    #f1 score\n",
    "    f1 = F1Score(task=\"multiclass\", num_classes=3)(preds_tensor, labels_tensor)\n",
    "    #Precision\n",
    "    precision = MulticlassPrecision(num_classes=3)(preds_tensor, labels_tensor)\n",
    "    #recall\n",
    "    recall = MulticlassRecall(num_classes=3)(preds_tensor, labels_tensor)\n",
    "    #accuracy\n",
    "    accuracy = len(pred_for_shot[pred_for_shot['prediction']==pred_for_shot['label']])/len(pred_for_shot)\n",
    "    \n",
    "    textstr = '\\n'.join((\n",
    "        f'shot {shot}',\n",
    "        r'threshhold = 0.5:',\n",
    "        r'f1=%.2f' % (f1.item(), ),\n",
    "        r'precision=%.2f' % (precision.item(), ),\n",
    "        r'recall=%.2f' % (recall.item(), ),\n",
    "        r'accuracy=%.2f' % (accuracy, )))\n",
    "\n",
    "\n",
    "    fig, ax = plt.subplots(figsize=(10,6))\n",
    "\n",
    "    ax.plot(pred_for_shot['time'],softmax_out[:,1], label='model confidence')\n",
    "    ax.plot(pred_for_shot['time'],pred_for_shot['label'], lw=3, alpha=.5, label='label')\n",
    "    ax.set_xlabel('t [ms]')\n",
    "    ax.set_ylabel('H-mod confidence')\n",
    "    plt.title(f'shot {shots[1]}')\n",
    "    ax.legend()\n",
    "    #a[1] = axs\n",
    "    #axs.text(0.5, 0.5, \"Confusion Matrix\", ha='center', va='center', fontsize=12, color='black')\n",
    "\n",
    "    # these are matplotlib.patch.Patch properties\n",
    "    props = dict(boxstyle='round', facecolor='wheat', alpha=0.5)\n",
    "\n",
    "    # place a text box in upper left in axes coords\n",
    "    roc_ax.text(0.05, 0.3, textstr, transform=ax.transAxes, fontsize=14,\n",
    "            verticalalignment='bottom', bbox=props)\n",
    "    \n",
    "\n",
    "    \n",
    "    # Save the figures to temporary files\n",
    "    fig.savefig(f'{path}/data/time_confidence_for_shot_{shot}.png')\n",
    "    roc_fig.savefig(f'{path}/data/roc_for_shot_{shot}.png')\n",
    "    conf_matrix_fig.savefig(f'{path}/data/confusion_matrix_for_shot_{shot}.png')\n",
    "\n",
    "    # Open the saved images using Pillow\n",
    "    time_confidence_img = Image.open(f'{path}/data/time_confidence_for_shot_{shot}.png')\n",
    "    roc_img = Image.open(f'{path}/data/roc_for_shot_{shot}.png')\n",
    "    conf_matrix_img = Image.open(f'{path}/data/confusion_matrix_for_shot_{shot}.png')\n",
    "\n",
    "\n",
    "    combined_image = Image.new('RGB', (time_confidence_img.width + roc_img.width + conf_matrix_img.width,\\\n",
    "                                        max(time_confidence_img.height, roc_img.height, conf_matrix_img.height)))\n",
    "\n",
    "    # Paste the saved images into the combined image\n",
    "    combined_image.paste(time_confidence_img, (0, 0))\n",
    "    combined_image.paste(roc_img, (time_confidence_img.width, 0))\n",
    "    combined_image.paste(conf_matrix_img, (time_confidence_img.width+roc_img.width, 0))\n",
    "\n",
    "    # Save the combined image\n",
    "    combined_image.save(f'{path}/data/combined_image_for_shot_{shot}.png')"
   ]
  },
  {
   "cell_type": "code",
   "execution_count": null,
   "metadata": {},
   "outputs": [],
   "source": []
  }
 ],
 "metadata": {
  "kernelspec": {
   "display_name": "bogdanov_VU_kernel 3.8.10",
   "language": "python",
   "name": "bogdanov_vu_3.8.10"
  },
  "language_info": {
   "codemirror_mode": {
    "name": "ipython",
    "version": 3
   },
   "file_extension": ".py",
   "mimetype": "text/x-python",
   "name": "python",
   "nbconvert_exporter": "python",
   "pygments_lexer": "ipython3",
   "version": "3.8.10"
  }
 },
 "nbformat": 4,
 "nbformat_minor": 2
}
